{
  "nbformat": 4,
  "nbformat_minor": 0,
  "metadata": {
    "colab": {
      "name": "중간 프로젝트.ipynb",
      "provenance": [],
      "collapsed_sections": []
    },
    "kernelspec": {
      "name": "python3",
      "display_name": "Python 3"
    },
    "language_info": {
      "name": "python"
    },
    "accelerator": "GPU",
    "widgets": {
      "application/vnd.jupyter.widget-state+json": {
        "0e07ea54623f4461873c25c78a796049": {
          "model_module": "@jupyter-widgets/controls",
          "model_name": "HBoxModel",
          "state": {
            "_view_name": "HBoxView",
            "_dom_classes": [],
            "_model_name": "HBoxModel",
            "_view_module": "@jupyter-widgets/controls",
            "_model_module_version": "1.5.0",
            "_view_count": null,
            "_view_module_version": "1.5.0",
            "box_style": "",
            "layout": "IPY_MODEL_80dd6514b59e4c48b165ad105d643b2a",
            "_model_module": "@jupyter-widgets/controls",
            "children": [
              "IPY_MODEL_c6e5dbc48f3a4286b6db624f775ddf4f",
              "IPY_MODEL_b35e79e1162a423c897ddd6f590cf540"
            ]
          }
        },
        "80dd6514b59e4c48b165ad105d643b2a": {
          "model_module": "@jupyter-widgets/base",
          "model_name": "LayoutModel",
          "state": {
            "_view_name": "LayoutView",
            "grid_template_rows": null,
            "right": null,
            "justify_content": null,
            "_view_module": "@jupyter-widgets/base",
            "overflow": null,
            "_model_module_version": "1.2.0",
            "_view_count": null,
            "flex_flow": null,
            "width": null,
            "min_width": null,
            "border": null,
            "align_items": null,
            "bottom": null,
            "_model_module": "@jupyter-widgets/base",
            "top": null,
            "grid_column": null,
            "overflow_y": null,
            "overflow_x": null,
            "grid_auto_flow": null,
            "grid_area": null,
            "grid_template_columns": null,
            "flex": null,
            "_model_name": "LayoutModel",
            "justify_items": null,
            "grid_row": null,
            "max_height": null,
            "align_content": null,
            "visibility": null,
            "align_self": null,
            "height": null,
            "min_height": null,
            "padding": null,
            "grid_auto_rows": null,
            "grid_gap": null,
            "max_width": null,
            "order": null,
            "_view_module_version": "1.2.0",
            "grid_template_areas": null,
            "object_position": null,
            "object_fit": null,
            "grid_auto_columns": null,
            "margin": null,
            "display": null,
            "left": null
          }
        },
        "c6e5dbc48f3a4286b6db624f775ddf4f": {
          "model_module": "@jupyter-widgets/controls",
          "model_name": "FloatProgressModel",
          "state": {
            "_view_name": "ProgressView",
            "style": "IPY_MODEL_be894203c9054920906988bdfcadfbbb",
            "_dom_classes": [],
            "description": "Downloading: 100%",
            "_model_name": "FloatProgressModel",
            "bar_style": "success",
            "max": 1649,
            "_view_module": "@jupyter-widgets/controls",
            "_model_module_version": "1.5.0",
            "value": 1649,
            "_view_count": null,
            "_view_module_version": "1.5.0",
            "orientation": "horizontal",
            "min": 0,
            "description_tooltip": null,
            "_model_module": "@jupyter-widgets/controls",
            "layout": "IPY_MODEL_c565b56842d742a0a3afd456650baffa"
          }
        },
        "b35e79e1162a423c897ddd6f590cf540": {
          "model_module": "@jupyter-widgets/controls",
          "model_name": "HTMLModel",
          "state": {
            "_view_name": "HTMLView",
            "style": "IPY_MODEL_c2552e7a41444aab830147cd8b1357e3",
            "_dom_classes": [],
            "description": "",
            "_model_name": "HTMLModel",
            "placeholder": "​",
            "_view_module": "@jupyter-widgets/controls",
            "_model_module_version": "1.5.0",
            "value": " 1.65k/1.65k [00:46&lt;00:00, 35.6B/s]",
            "_view_count": null,
            "_view_module_version": "1.5.0",
            "description_tooltip": null,
            "_model_module": "@jupyter-widgets/controls",
            "layout": "IPY_MODEL_52658c2fd10e4429a74d94ea91f973cb"
          }
        },
        "be894203c9054920906988bdfcadfbbb": {
          "model_module": "@jupyter-widgets/controls",
          "model_name": "ProgressStyleModel",
          "state": {
            "_view_name": "StyleView",
            "_model_name": "ProgressStyleModel",
            "description_width": "initial",
            "_view_module": "@jupyter-widgets/base",
            "_model_module_version": "1.5.0",
            "_view_count": null,
            "_view_module_version": "1.2.0",
            "bar_color": null,
            "_model_module": "@jupyter-widgets/controls"
          }
        },
        "c565b56842d742a0a3afd456650baffa": {
          "model_module": "@jupyter-widgets/base",
          "model_name": "LayoutModel",
          "state": {
            "_view_name": "LayoutView",
            "grid_template_rows": null,
            "right": null,
            "justify_content": null,
            "_view_module": "@jupyter-widgets/base",
            "overflow": null,
            "_model_module_version": "1.2.0",
            "_view_count": null,
            "flex_flow": null,
            "width": null,
            "min_width": null,
            "border": null,
            "align_items": null,
            "bottom": null,
            "_model_module": "@jupyter-widgets/base",
            "top": null,
            "grid_column": null,
            "overflow_y": null,
            "overflow_x": null,
            "grid_auto_flow": null,
            "grid_area": null,
            "grid_template_columns": null,
            "flex": null,
            "_model_name": "LayoutModel",
            "justify_items": null,
            "grid_row": null,
            "max_height": null,
            "align_content": null,
            "visibility": null,
            "align_self": null,
            "height": null,
            "min_height": null,
            "padding": null,
            "grid_auto_rows": null,
            "grid_gap": null,
            "max_width": null,
            "order": null,
            "_view_module_version": "1.2.0",
            "grid_template_areas": null,
            "object_position": null,
            "object_fit": null,
            "grid_auto_columns": null,
            "margin": null,
            "display": null,
            "left": null
          }
        },
        "c2552e7a41444aab830147cd8b1357e3": {
          "model_module": "@jupyter-widgets/controls",
          "model_name": "DescriptionStyleModel",
          "state": {
            "_view_name": "StyleView",
            "_model_name": "DescriptionStyleModel",
            "description_width": "",
            "_view_module": "@jupyter-widgets/base",
            "_model_module_version": "1.5.0",
            "_view_count": null,
            "_view_module_version": "1.2.0",
            "_model_module": "@jupyter-widgets/controls"
          }
        },
        "52658c2fd10e4429a74d94ea91f973cb": {
          "model_module": "@jupyter-widgets/base",
          "model_name": "LayoutModel",
          "state": {
            "_view_name": "LayoutView",
            "grid_template_rows": null,
            "right": null,
            "justify_content": null,
            "_view_module": "@jupyter-widgets/base",
            "overflow": null,
            "_model_module_version": "1.2.0",
            "_view_count": null,
            "flex_flow": null,
            "width": null,
            "min_width": null,
            "border": null,
            "align_items": null,
            "bottom": null,
            "_model_module": "@jupyter-widgets/base",
            "top": null,
            "grid_column": null,
            "overflow_y": null,
            "overflow_x": null,
            "grid_auto_flow": null,
            "grid_area": null,
            "grid_template_columns": null,
            "flex": null,
            "_model_name": "LayoutModel",
            "justify_items": null,
            "grid_row": null,
            "max_height": null,
            "align_content": null,
            "visibility": null,
            "align_self": null,
            "height": null,
            "min_height": null,
            "padding": null,
            "grid_auto_rows": null,
            "grid_gap": null,
            "max_width": null,
            "order": null,
            "_view_module_version": "1.2.0",
            "grid_template_areas": null,
            "object_position": null,
            "object_fit": null,
            "grid_auto_columns": null,
            "margin": null,
            "display": null,
            "left": null
          }
        },
        "68d17ee276b54d799a3e22043fef59ee": {
          "model_module": "@jupyter-widgets/controls",
          "model_name": "HBoxModel",
          "state": {
            "_view_name": "HBoxView",
            "_dom_classes": [],
            "_model_name": "HBoxModel",
            "_view_module": "@jupyter-widgets/controls",
            "_model_module_version": "1.5.0",
            "_view_count": null,
            "_view_module_version": "1.5.0",
            "box_style": "",
            "layout": "IPY_MODEL_24523004d6994f4a889f7f3541808feb",
            "_model_module": "@jupyter-widgets/controls",
            "children": [
              "IPY_MODEL_ea06ae9895e94a28badbeb9dd52d0a27",
              "IPY_MODEL_97c7390da9e242a2a9db91080f0dad83"
            ]
          }
        },
        "24523004d6994f4a889f7f3541808feb": {
          "model_module": "@jupyter-widgets/base",
          "model_name": "LayoutModel",
          "state": {
            "_view_name": "LayoutView",
            "grid_template_rows": null,
            "right": null,
            "justify_content": null,
            "_view_module": "@jupyter-widgets/base",
            "overflow": null,
            "_model_module_version": "1.2.0",
            "_view_count": null,
            "flex_flow": null,
            "width": null,
            "min_width": null,
            "border": null,
            "align_items": null,
            "bottom": null,
            "_model_module": "@jupyter-widgets/base",
            "top": null,
            "grid_column": null,
            "overflow_y": null,
            "overflow_x": null,
            "grid_auto_flow": null,
            "grid_area": null,
            "grid_template_columns": null,
            "flex": null,
            "_model_name": "LayoutModel",
            "justify_items": null,
            "grid_row": null,
            "max_height": null,
            "align_content": null,
            "visibility": null,
            "align_self": null,
            "height": null,
            "min_height": null,
            "padding": null,
            "grid_auto_rows": null,
            "grid_gap": null,
            "max_width": null,
            "order": null,
            "_view_module_version": "1.2.0",
            "grid_template_areas": null,
            "object_position": null,
            "object_fit": null,
            "grid_auto_columns": null,
            "margin": null,
            "display": null,
            "left": null
          }
        },
        "ea06ae9895e94a28badbeb9dd52d0a27": {
          "model_module": "@jupyter-widgets/controls",
          "model_name": "FloatProgressModel",
          "state": {
            "_view_name": "ProgressView",
            "style": "IPY_MODEL_9854efca84f64c37999628afef49ae10",
            "_dom_classes": [],
            "description": "Downloading: 100%",
            "_model_name": "FloatProgressModel",
            "bar_style": "success",
            "max": 1222317369,
            "_view_module": "@jupyter-widgets/controls",
            "_model_module_version": "1.5.0",
            "value": 1222317369,
            "_view_count": null,
            "_view_module_version": "1.5.0",
            "orientation": "horizontal",
            "min": 0,
            "description_tooltip": null,
            "_model_module": "@jupyter-widgets/controls",
            "layout": "IPY_MODEL_868be607014a48cdbcf28145afd6a8b9"
          }
        },
        "97c7390da9e242a2a9db91080f0dad83": {
          "model_module": "@jupyter-widgets/controls",
          "model_name": "HTMLModel",
          "state": {
            "_view_name": "HTMLView",
            "style": "IPY_MODEL_f9bcaaa1f60145069272081cac95c4ff",
            "_dom_classes": [],
            "description": "",
            "_model_name": "HTMLModel",
            "placeholder": "​",
            "_view_module": "@jupyter-widgets/controls",
            "_model_module_version": "1.5.0",
            "value": " 1.22G/1.22G [00:28&lt;00:00, 42.3MB/s]",
            "_view_count": null,
            "_view_module_version": "1.5.0",
            "description_tooltip": null,
            "_model_module": "@jupyter-widgets/controls",
            "layout": "IPY_MODEL_151318699df94510b8aafe70559e7507"
          }
        },
        "9854efca84f64c37999628afef49ae10": {
          "model_module": "@jupyter-widgets/controls",
          "model_name": "ProgressStyleModel",
          "state": {
            "_view_name": "StyleView",
            "_model_name": "ProgressStyleModel",
            "description_width": "initial",
            "_view_module": "@jupyter-widgets/base",
            "_model_module_version": "1.5.0",
            "_view_count": null,
            "_view_module_version": "1.2.0",
            "bar_color": null,
            "_model_module": "@jupyter-widgets/controls"
          }
        },
        "868be607014a48cdbcf28145afd6a8b9": {
          "model_module": "@jupyter-widgets/base",
          "model_name": "LayoutModel",
          "state": {
            "_view_name": "LayoutView",
            "grid_template_rows": null,
            "right": null,
            "justify_content": null,
            "_view_module": "@jupyter-widgets/base",
            "overflow": null,
            "_model_module_version": "1.2.0",
            "_view_count": null,
            "flex_flow": null,
            "width": null,
            "min_width": null,
            "border": null,
            "align_items": null,
            "bottom": null,
            "_model_module": "@jupyter-widgets/base",
            "top": null,
            "grid_column": null,
            "overflow_y": null,
            "overflow_x": null,
            "grid_auto_flow": null,
            "grid_area": null,
            "grid_template_columns": null,
            "flex": null,
            "_model_name": "LayoutModel",
            "justify_items": null,
            "grid_row": null,
            "max_height": null,
            "align_content": null,
            "visibility": null,
            "align_self": null,
            "height": null,
            "min_height": null,
            "padding": null,
            "grid_auto_rows": null,
            "grid_gap": null,
            "max_width": null,
            "order": null,
            "_view_module_version": "1.2.0",
            "grid_template_areas": null,
            "object_position": null,
            "object_fit": null,
            "grid_auto_columns": null,
            "margin": null,
            "display": null,
            "left": null
          }
        },
        "f9bcaaa1f60145069272081cac95c4ff": {
          "model_module": "@jupyter-widgets/controls",
          "model_name": "DescriptionStyleModel",
          "state": {
            "_view_name": "StyleView",
            "_model_name": "DescriptionStyleModel",
            "description_width": "",
            "_view_module": "@jupyter-widgets/base",
            "_model_module_version": "1.5.0",
            "_view_count": null,
            "_view_module_version": "1.2.0",
            "_model_module": "@jupyter-widgets/controls"
          }
        },
        "151318699df94510b8aafe70559e7507": {
          "model_module": "@jupyter-widgets/base",
          "model_name": "LayoutModel",
          "state": {
            "_view_name": "LayoutView",
            "grid_template_rows": null,
            "right": null,
            "justify_content": null,
            "_view_module": "@jupyter-widgets/base",
            "overflow": null,
            "_model_module_version": "1.2.0",
            "_view_count": null,
            "flex_flow": null,
            "width": null,
            "min_width": null,
            "border": null,
            "align_items": null,
            "bottom": null,
            "_model_module": "@jupyter-widgets/base",
            "top": null,
            "grid_column": null,
            "overflow_y": null,
            "overflow_x": null,
            "grid_auto_flow": null,
            "grid_area": null,
            "grid_template_columns": null,
            "flex": null,
            "_model_name": "LayoutModel",
            "justify_items": null,
            "grid_row": null,
            "max_height": null,
            "align_content": null,
            "visibility": null,
            "align_self": null,
            "height": null,
            "min_height": null,
            "padding": null,
            "grid_auto_rows": null,
            "grid_gap": null,
            "max_width": null,
            "order": null,
            "_view_module_version": "1.2.0",
            "grid_template_areas": null,
            "object_position": null,
            "object_fit": null,
            "grid_auto_columns": null,
            "margin": null,
            "display": null,
            "left": null
          }
        },
        "df8f6b4de3be4329b64b2b062a23b9b9": {
          "model_module": "@jupyter-widgets/controls",
          "model_name": "HBoxModel",
          "state": {
            "_view_name": "HBoxView",
            "_dom_classes": [],
            "_model_name": "HBoxModel",
            "_view_module": "@jupyter-widgets/controls",
            "_model_module_version": "1.5.0",
            "_view_count": null,
            "_view_module_version": "1.5.0",
            "box_style": "",
            "layout": "IPY_MODEL_2b78f4351da042808168006d47e3f063",
            "_model_module": "@jupyter-widgets/controls",
            "children": [
              "IPY_MODEL_23029a23e0824383bca9319733037fb7",
              "IPY_MODEL_9823c209192646a89f0720edb2d078e5"
            ]
          }
        },
        "2b78f4351da042808168006d47e3f063": {
          "model_module": "@jupyter-widgets/base",
          "model_name": "LayoutModel",
          "state": {
            "_view_name": "LayoutView",
            "grid_template_rows": null,
            "right": null,
            "justify_content": null,
            "_view_module": "@jupyter-widgets/base",
            "overflow": null,
            "_model_module_version": "1.2.0",
            "_view_count": null,
            "flex_flow": null,
            "width": null,
            "min_width": null,
            "border": null,
            "align_items": null,
            "bottom": null,
            "_model_module": "@jupyter-widgets/base",
            "top": null,
            "grid_column": null,
            "overflow_y": null,
            "overflow_x": null,
            "grid_auto_flow": null,
            "grid_area": null,
            "grid_template_columns": null,
            "flex": null,
            "_model_name": "LayoutModel",
            "justify_items": null,
            "grid_row": null,
            "max_height": null,
            "align_content": null,
            "visibility": null,
            "align_self": null,
            "height": null,
            "min_height": null,
            "padding": null,
            "grid_auto_rows": null,
            "grid_gap": null,
            "max_width": null,
            "order": null,
            "_view_module_version": "1.2.0",
            "grid_template_areas": null,
            "object_position": null,
            "object_fit": null,
            "grid_auto_columns": null,
            "margin": null,
            "display": null,
            "left": null
          }
        },
        "23029a23e0824383bca9319733037fb7": {
          "model_module": "@jupyter-widgets/controls",
          "model_name": "FloatProgressModel",
          "state": {
            "_view_name": "ProgressView",
            "style": "IPY_MODEL_56d32075337e4a8d8c5e66d6900c5005",
            "_dom_classes": [],
            "description": "Downloading: 100%",
            "_model_name": "FloatProgressModel",
            "bar_style": "success",
            "max": 898822,
            "_view_module": "@jupyter-widgets/controls",
            "_model_module_version": "1.5.0",
            "value": 898822,
            "_view_count": null,
            "_view_module_version": "1.5.0",
            "orientation": "horizontal",
            "min": 0,
            "description_tooltip": null,
            "_model_module": "@jupyter-widgets/controls",
            "layout": "IPY_MODEL_108d0c0b96654318ab01ab3acdf76e84"
          }
        },
        "9823c209192646a89f0720edb2d078e5": {
          "model_module": "@jupyter-widgets/controls",
          "model_name": "HTMLModel",
          "state": {
            "_view_name": "HTMLView",
            "style": "IPY_MODEL_05838c0e0cc342aa9f21f90713f0bc64",
            "_dom_classes": [],
            "description": "",
            "_model_name": "HTMLModel",
            "placeholder": "​",
            "_view_module": "@jupyter-widgets/controls",
            "_model_module_version": "1.5.0",
            "value": " 899k/899k [00:00&lt;00:00, 2.57MB/s]",
            "_view_count": null,
            "_view_module_version": "1.5.0",
            "description_tooltip": null,
            "_model_module": "@jupyter-widgets/controls",
            "layout": "IPY_MODEL_6c30282d2cb3441aa767aa0b19eed5be"
          }
        },
        "56d32075337e4a8d8c5e66d6900c5005": {
          "model_module": "@jupyter-widgets/controls",
          "model_name": "ProgressStyleModel",
          "state": {
            "_view_name": "StyleView",
            "_model_name": "ProgressStyleModel",
            "description_width": "initial",
            "_view_module": "@jupyter-widgets/base",
            "_model_module_version": "1.5.0",
            "_view_count": null,
            "_view_module_version": "1.2.0",
            "bar_color": null,
            "_model_module": "@jupyter-widgets/controls"
          }
        },
        "108d0c0b96654318ab01ab3acdf76e84": {
          "model_module": "@jupyter-widgets/base",
          "model_name": "LayoutModel",
          "state": {
            "_view_name": "LayoutView",
            "grid_template_rows": null,
            "right": null,
            "justify_content": null,
            "_view_module": "@jupyter-widgets/base",
            "overflow": null,
            "_model_module_version": "1.2.0",
            "_view_count": null,
            "flex_flow": null,
            "width": null,
            "min_width": null,
            "border": null,
            "align_items": null,
            "bottom": null,
            "_model_module": "@jupyter-widgets/base",
            "top": null,
            "grid_column": null,
            "overflow_y": null,
            "overflow_x": null,
            "grid_auto_flow": null,
            "grid_area": null,
            "grid_template_columns": null,
            "flex": null,
            "_model_name": "LayoutModel",
            "justify_items": null,
            "grid_row": null,
            "max_height": null,
            "align_content": null,
            "visibility": null,
            "align_self": null,
            "height": null,
            "min_height": null,
            "padding": null,
            "grid_auto_rows": null,
            "grid_gap": null,
            "max_width": null,
            "order": null,
            "_view_module_version": "1.2.0",
            "grid_template_areas": null,
            "object_position": null,
            "object_fit": null,
            "grid_auto_columns": null,
            "margin": null,
            "display": null,
            "left": null
          }
        },
        "05838c0e0cc342aa9f21f90713f0bc64": {
          "model_module": "@jupyter-widgets/controls",
          "model_name": "DescriptionStyleModel",
          "state": {
            "_view_name": "StyleView",
            "_model_name": "DescriptionStyleModel",
            "description_width": "",
            "_view_module": "@jupyter-widgets/base",
            "_model_module_version": "1.5.0",
            "_view_count": null,
            "_view_module_version": "1.2.0",
            "_model_module": "@jupyter-widgets/controls"
          }
        },
        "6c30282d2cb3441aa767aa0b19eed5be": {
          "model_module": "@jupyter-widgets/base",
          "model_name": "LayoutModel",
          "state": {
            "_view_name": "LayoutView",
            "grid_template_rows": null,
            "right": null,
            "justify_content": null,
            "_view_module": "@jupyter-widgets/base",
            "overflow": null,
            "_model_module_version": "1.2.0",
            "_view_count": null,
            "flex_flow": null,
            "width": null,
            "min_width": null,
            "border": null,
            "align_items": null,
            "bottom": null,
            "_model_module": "@jupyter-widgets/base",
            "top": null,
            "grid_column": null,
            "overflow_y": null,
            "overflow_x": null,
            "grid_auto_flow": null,
            "grid_area": null,
            "grid_template_columns": null,
            "flex": null,
            "_model_name": "LayoutModel",
            "justify_items": null,
            "grid_row": null,
            "max_height": null,
            "align_content": null,
            "visibility": null,
            "align_self": null,
            "height": null,
            "min_height": null,
            "padding": null,
            "grid_auto_rows": null,
            "grid_gap": null,
            "max_width": null,
            "order": null,
            "_view_module_version": "1.2.0",
            "grid_template_areas": null,
            "object_position": null,
            "object_fit": null,
            "grid_auto_columns": null,
            "margin": null,
            "display": null,
            "left": null
          }
        },
        "39acac06b8bd4858a8891ff49895b044": {
          "model_module": "@jupyter-widgets/controls",
          "model_name": "HBoxModel",
          "state": {
            "_view_name": "HBoxView",
            "_dom_classes": [],
            "_model_name": "HBoxModel",
            "_view_module": "@jupyter-widgets/controls",
            "_model_module_version": "1.5.0",
            "_view_count": null,
            "_view_module_version": "1.5.0",
            "box_style": "",
            "layout": "IPY_MODEL_57cad67216c14137a0a07bbc4e5aded8",
            "_model_module": "@jupyter-widgets/controls",
            "children": [
              "IPY_MODEL_da540f8dbdc54507a4593bf552162641",
              "IPY_MODEL_a09fb3cdaaf34c7891180820aacdd4fa"
            ]
          }
        },
        "57cad67216c14137a0a07bbc4e5aded8": {
          "model_module": "@jupyter-widgets/base",
          "model_name": "LayoutModel",
          "state": {
            "_view_name": "LayoutView",
            "grid_template_rows": null,
            "right": null,
            "justify_content": null,
            "_view_module": "@jupyter-widgets/base",
            "overflow": null,
            "_model_module_version": "1.2.0",
            "_view_count": null,
            "flex_flow": null,
            "width": null,
            "min_width": null,
            "border": null,
            "align_items": null,
            "bottom": null,
            "_model_module": "@jupyter-widgets/base",
            "top": null,
            "grid_column": null,
            "overflow_y": null,
            "overflow_x": null,
            "grid_auto_flow": null,
            "grid_area": null,
            "grid_template_columns": null,
            "flex": null,
            "_model_name": "LayoutModel",
            "justify_items": null,
            "grid_row": null,
            "max_height": null,
            "align_content": null,
            "visibility": null,
            "align_self": null,
            "height": null,
            "min_height": null,
            "padding": null,
            "grid_auto_rows": null,
            "grid_gap": null,
            "max_width": null,
            "order": null,
            "_view_module_version": "1.2.0",
            "grid_template_areas": null,
            "object_position": null,
            "object_fit": null,
            "grid_auto_columns": null,
            "margin": null,
            "display": null,
            "left": null
          }
        },
        "da540f8dbdc54507a4593bf552162641": {
          "model_module": "@jupyter-widgets/controls",
          "model_name": "FloatProgressModel",
          "state": {
            "_view_name": "ProgressView",
            "style": "IPY_MODEL_20f0d37d243745cfa55c988381354616",
            "_dom_classes": [],
            "description": "Downloading: 100%",
            "_model_name": "FloatProgressModel",
            "bar_style": "success",
            "max": 456318,
            "_view_module": "@jupyter-widgets/controls",
            "_model_module_version": "1.5.0",
            "value": 456318,
            "_view_count": null,
            "_view_module_version": "1.5.0",
            "orientation": "horizontal",
            "min": 0,
            "description_tooltip": null,
            "_model_module": "@jupyter-widgets/controls",
            "layout": "IPY_MODEL_5bf85255b6dc4614a6efa56c950ec9b5"
          }
        },
        "a09fb3cdaaf34c7891180820aacdd4fa": {
          "model_module": "@jupyter-widgets/controls",
          "model_name": "HTMLModel",
          "state": {
            "_view_name": "HTMLView",
            "style": "IPY_MODEL_efd494b0d5a84d21aa6aa488a0247e48",
            "_dom_classes": [],
            "description": "",
            "_model_name": "HTMLModel",
            "placeholder": "​",
            "_view_module": "@jupyter-widgets/controls",
            "_model_module_version": "1.5.0",
            "value": " 456k/456k [00:00&lt;00:00, 965kB/s]",
            "_view_count": null,
            "_view_module_version": "1.5.0",
            "description_tooltip": null,
            "_model_module": "@jupyter-widgets/controls",
            "layout": "IPY_MODEL_6c7448f93f5c4537b23002c3f5608a0a"
          }
        },
        "20f0d37d243745cfa55c988381354616": {
          "model_module": "@jupyter-widgets/controls",
          "model_name": "ProgressStyleModel",
          "state": {
            "_view_name": "StyleView",
            "_model_name": "ProgressStyleModel",
            "description_width": "initial",
            "_view_module": "@jupyter-widgets/base",
            "_model_module_version": "1.5.0",
            "_view_count": null,
            "_view_module_version": "1.2.0",
            "bar_color": null,
            "_model_module": "@jupyter-widgets/controls"
          }
        },
        "5bf85255b6dc4614a6efa56c950ec9b5": {
          "model_module": "@jupyter-widgets/base",
          "model_name": "LayoutModel",
          "state": {
            "_view_name": "LayoutView",
            "grid_template_rows": null,
            "right": null,
            "justify_content": null,
            "_view_module": "@jupyter-widgets/base",
            "overflow": null,
            "_model_module_version": "1.2.0",
            "_view_count": null,
            "flex_flow": null,
            "width": null,
            "min_width": null,
            "border": null,
            "align_items": null,
            "bottom": null,
            "_model_module": "@jupyter-widgets/base",
            "top": null,
            "grid_column": null,
            "overflow_y": null,
            "overflow_x": null,
            "grid_auto_flow": null,
            "grid_area": null,
            "grid_template_columns": null,
            "flex": null,
            "_model_name": "LayoutModel",
            "justify_items": null,
            "grid_row": null,
            "max_height": null,
            "align_content": null,
            "visibility": null,
            "align_self": null,
            "height": null,
            "min_height": null,
            "padding": null,
            "grid_auto_rows": null,
            "grid_gap": null,
            "max_width": null,
            "order": null,
            "_view_module_version": "1.2.0",
            "grid_template_areas": null,
            "object_position": null,
            "object_fit": null,
            "grid_auto_columns": null,
            "margin": null,
            "display": null,
            "left": null
          }
        },
        "efd494b0d5a84d21aa6aa488a0247e48": {
          "model_module": "@jupyter-widgets/controls",
          "model_name": "DescriptionStyleModel",
          "state": {
            "_view_name": "StyleView",
            "_model_name": "DescriptionStyleModel",
            "description_width": "",
            "_view_module": "@jupyter-widgets/base",
            "_model_module_version": "1.5.0",
            "_view_count": null,
            "_view_module_version": "1.2.0",
            "_model_module": "@jupyter-widgets/controls"
          }
        },
        "6c7448f93f5c4537b23002c3f5608a0a": {
          "model_module": "@jupyter-widgets/base",
          "model_name": "LayoutModel",
          "state": {
            "_view_name": "LayoutView",
            "grid_template_rows": null,
            "right": null,
            "justify_content": null,
            "_view_module": "@jupyter-widgets/base",
            "overflow": null,
            "_model_module_version": "1.2.0",
            "_view_count": null,
            "flex_flow": null,
            "width": null,
            "min_width": null,
            "border": null,
            "align_items": null,
            "bottom": null,
            "_model_module": "@jupyter-widgets/base",
            "top": null,
            "grid_column": null,
            "overflow_y": null,
            "overflow_x": null,
            "grid_auto_flow": null,
            "grid_area": null,
            "grid_template_columns": null,
            "flex": null,
            "_model_name": "LayoutModel",
            "justify_items": null,
            "grid_row": null,
            "max_height": null,
            "align_content": null,
            "visibility": null,
            "align_self": null,
            "height": null,
            "min_height": null,
            "padding": null,
            "grid_auto_rows": null,
            "grid_gap": null,
            "max_width": null,
            "order": null,
            "_view_module_version": "1.2.0",
            "grid_template_areas": null,
            "object_position": null,
            "object_fit": null,
            "grid_auto_columns": null,
            "margin": null,
            "display": null,
            "left": null
          }
        },
        "5a6a43763660493db113d0849b0b2879": {
          "model_module": "@jupyter-widgets/controls",
          "model_name": "HBoxModel",
          "state": {
            "_view_name": "HBoxView",
            "_dom_classes": [],
            "_model_name": "HBoxModel",
            "_view_module": "@jupyter-widgets/controls",
            "_model_module_version": "1.5.0",
            "_view_count": null,
            "_view_module_version": "1.5.0",
            "box_style": "",
            "layout": "IPY_MODEL_cf4235b1111142f0ae5a8dc25a2279c9",
            "_model_module": "@jupyter-widgets/controls",
            "children": [
              "IPY_MODEL_c32c1afaa1524f4685030459fbd1064b",
              "IPY_MODEL_3239cedc6f234a18a176a56ec63e3aad"
            ]
          }
        },
        "cf4235b1111142f0ae5a8dc25a2279c9": {
          "model_module": "@jupyter-widgets/base",
          "model_name": "LayoutModel",
          "state": {
            "_view_name": "LayoutView",
            "grid_template_rows": null,
            "right": null,
            "justify_content": null,
            "_view_module": "@jupyter-widgets/base",
            "overflow": null,
            "_model_module_version": "1.2.0",
            "_view_count": null,
            "flex_flow": null,
            "width": null,
            "min_width": null,
            "border": null,
            "align_items": null,
            "bottom": null,
            "_model_module": "@jupyter-widgets/base",
            "top": null,
            "grid_column": null,
            "overflow_y": null,
            "overflow_x": null,
            "grid_auto_flow": null,
            "grid_area": null,
            "grid_template_columns": null,
            "flex": null,
            "_model_name": "LayoutModel",
            "justify_items": null,
            "grid_row": null,
            "max_height": null,
            "align_content": null,
            "visibility": null,
            "align_self": null,
            "height": null,
            "min_height": null,
            "padding": null,
            "grid_auto_rows": null,
            "grid_gap": null,
            "max_width": null,
            "order": null,
            "_view_module_version": "1.2.0",
            "grid_template_areas": null,
            "object_position": null,
            "object_fit": null,
            "grid_auto_columns": null,
            "margin": null,
            "display": null,
            "left": null
          }
        },
        "c32c1afaa1524f4685030459fbd1064b": {
          "model_module": "@jupyter-widgets/controls",
          "model_name": "FloatProgressModel",
          "state": {
            "_view_name": "ProgressView",
            "style": "IPY_MODEL_84606436e79b479a97c2dd1c16a59d4b",
            "_dom_classes": [],
            "description": "Downloading: 100%",
            "_model_name": "FloatProgressModel",
            "bar_style": "success",
            "max": 26,
            "_view_module": "@jupyter-widgets/controls",
            "_model_module_version": "1.5.0",
            "value": 26,
            "_view_count": null,
            "_view_module_version": "1.5.0",
            "orientation": "horizontal",
            "min": 0,
            "description_tooltip": null,
            "_model_module": "@jupyter-widgets/controls",
            "layout": "IPY_MODEL_fcff53a5ed324f5c8c62f701919d44ab"
          }
        },
        "3239cedc6f234a18a176a56ec63e3aad": {
          "model_module": "@jupyter-widgets/controls",
          "model_name": "HTMLModel",
          "state": {
            "_view_name": "HTMLView",
            "style": "IPY_MODEL_7f7b8630a7b4410ab2e3fb1498c2be66",
            "_dom_classes": [],
            "description": "",
            "_model_name": "HTMLModel",
            "placeholder": "​",
            "_view_module": "@jupyter-widgets/controls",
            "_model_module_version": "1.5.0",
            "value": " 26.0/26.0 [00:00&lt;00:00, 179B/s]",
            "_view_count": null,
            "_view_module_version": "1.5.0",
            "description_tooltip": null,
            "_model_module": "@jupyter-widgets/controls",
            "layout": "IPY_MODEL_cd66cd049f444dcd8975a3c5aac4513f"
          }
        },
        "84606436e79b479a97c2dd1c16a59d4b": {
          "model_module": "@jupyter-widgets/controls",
          "model_name": "ProgressStyleModel",
          "state": {
            "_view_name": "StyleView",
            "_model_name": "ProgressStyleModel",
            "description_width": "initial",
            "_view_module": "@jupyter-widgets/base",
            "_model_module_version": "1.5.0",
            "_view_count": null,
            "_view_module_version": "1.2.0",
            "bar_color": null,
            "_model_module": "@jupyter-widgets/controls"
          }
        },
        "fcff53a5ed324f5c8c62f701919d44ab": {
          "model_module": "@jupyter-widgets/base",
          "model_name": "LayoutModel",
          "state": {
            "_view_name": "LayoutView",
            "grid_template_rows": null,
            "right": null,
            "justify_content": null,
            "_view_module": "@jupyter-widgets/base",
            "overflow": null,
            "_model_module_version": "1.2.0",
            "_view_count": null,
            "flex_flow": null,
            "width": null,
            "min_width": null,
            "border": null,
            "align_items": null,
            "bottom": null,
            "_model_module": "@jupyter-widgets/base",
            "top": null,
            "grid_column": null,
            "overflow_y": null,
            "overflow_x": null,
            "grid_auto_flow": null,
            "grid_area": null,
            "grid_template_columns": null,
            "flex": null,
            "_model_name": "LayoutModel",
            "justify_items": null,
            "grid_row": null,
            "max_height": null,
            "align_content": null,
            "visibility": null,
            "align_self": null,
            "height": null,
            "min_height": null,
            "padding": null,
            "grid_auto_rows": null,
            "grid_gap": null,
            "max_width": null,
            "order": null,
            "_view_module_version": "1.2.0",
            "grid_template_areas": null,
            "object_position": null,
            "object_fit": null,
            "grid_auto_columns": null,
            "margin": null,
            "display": null,
            "left": null
          }
        },
        "7f7b8630a7b4410ab2e3fb1498c2be66": {
          "model_module": "@jupyter-widgets/controls",
          "model_name": "DescriptionStyleModel",
          "state": {
            "_view_name": "StyleView",
            "_model_name": "DescriptionStyleModel",
            "description_width": "",
            "_view_module": "@jupyter-widgets/base",
            "_model_module_version": "1.5.0",
            "_view_count": null,
            "_view_module_version": "1.2.0",
            "_model_module": "@jupyter-widgets/controls"
          }
        },
        "cd66cd049f444dcd8975a3c5aac4513f": {
          "model_module": "@jupyter-widgets/base",
          "model_name": "LayoutModel",
          "state": {
            "_view_name": "LayoutView",
            "grid_template_rows": null,
            "right": null,
            "justify_content": null,
            "_view_module": "@jupyter-widgets/base",
            "overflow": null,
            "_model_module_version": "1.2.0",
            "_view_count": null,
            "flex_flow": null,
            "width": null,
            "min_width": null,
            "border": null,
            "align_items": null,
            "bottom": null,
            "_model_module": "@jupyter-widgets/base",
            "top": null,
            "grid_column": null,
            "overflow_y": null,
            "overflow_x": null,
            "grid_auto_flow": null,
            "grid_area": null,
            "grid_template_columns": null,
            "flex": null,
            "_model_name": "LayoutModel",
            "justify_items": null,
            "grid_row": null,
            "max_height": null,
            "align_content": null,
            "visibility": null,
            "align_self": null,
            "height": null,
            "min_height": null,
            "padding": null,
            "grid_auto_rows": null,
            "grid_gap": null,
            "max_width": null,
            "order": null,
            "_view_module_version": "1.2.0",
            "grid_template_areas": null,
            "object_position": null,
            "object_fit": null,
            "grid_auto_columns": null,
            "margin": null,
            "display": null,
            "left": null
          }
        },
        "61cdbf86d9284b49ad0c547dbc460ff4": {
          "model_module": "@jupyter-widgets/controls",
          "model_name": "HBoxModel",
          "state": {
            "_view_name": "HBoxView",
            "_dom_classes": [],
            "_model_name": "HBoxModel",
            "_view_module": "@jupyter-widgets/controls",
            "_model_module_version": "1.5.0",
            "_view_count": null,
            "_view_module_version": "1.5.0",
            "box_style": "",
            "layout": "IPY_MODEL_4b0bdd50db5c4400b7d62227d6ea44d3",
            "_model_module": "@jupyter-widgets/controls",
            "children": [
              "IPY_MODEL_eba7cdc8818046f9a4f1218844d5261e",
              "IPY_MODEL_fa0e1c86905e4375885e3499d74ff82a"
            ]
          }
        },
        "4b0bdd50db5c4400b7d62227d6ea44d3": {
          "model_module": "@jupyter-widgets/base",
          "model_name": "LayoutModel",
          "state": {
            "_view_name": "LayoutView",
            "grid_template_rows": null,
            "right": null,
            "justify_content": null,
            "_view_module": "@jupyter-widgets/base",
            "overflow": null,
            "_model_module_version": "1.2.0",
            "_view_count": null,
            "flex_flow": null,
            "width": null,
            "min_width": null,
            "border": null,
            "align_items": null,
            "bottom": null,
            "_model_module": "@jupyter-widgets/base",
            "top": null,
            "grid_column": null,
            "overflow_y": null,
            "overflow_x": null,
            "grid_auto_flow": null,
            "grid_area": null,
            "grid_template_columns": null,
            "flex": null,
            "_model_name": "LayoutModel",
            "justify_items": null,
            "grid_row": null,
            "max_height": null,
            "align_content": null,
            "visibility": null,
            "align_self": null,
            "height": null,
            "min_height": null,
            "padding": null,
            "grid_auto_rows": null,
            "grid_gap": null,
            "max_width": null,
            "order": null,
            "_view_module_version": "1.2.0",
            "grid_template_areas": null,
            "object_position": null,
            "object_fit": null,
            "grid_auto_columns": null,
            "margin": null,
            "display": null,
            "left": null
          }
        },
        "eba7cdc8818046f9a4f1218844d5261e": {
          "model_module": "@jupyter-widgets/controls",
          "model_name": "FloatProgressModel",
          "state": {
            "_view_name": "ProgressView",
            "style": "IPY_MODEL_0e2e136159d649bb962ee75a6fd9cc14",
            "_dom_classes": [],
            "description": "Downloading: 100%",
            "_model_name": "FloatProgressModel",
            "bar_style": "success",
            "max": 1199,
            "_view_module": "@jupyter-widgets/controls",
            "_model_module_version": "1.5.0",
            "value": 1199,
            "_view_count": null,
            "_view_module_version": "1.5.0",
            "orientation": "horizontal",
            "min": 0,
            "description_tooltip": null,
            "_model_module": "@jupyter-widgets/controls",
            "layout": "IPY_MODEL_9fc4130567924bf4835499185cc0ec5d"
          }
        },
        "fa0e1c86905e4375885e3499d74ff82a": {
          "model_module": "@jupyter-widgets/controls",
          "model_name": "HTMLModel",
          "state": {
            "_view_name": "HTMLView",
            "style": "IPY_MODEL_2d9390e0883d4bd68850294cfa549ff9",
            "_dom_classes": [],
            "description": "",
            "_model_name": "HTMLModel",
            "placeholder": "​",
            "_view_module": "@jupyter-widgets/controls",
            "_model_module_version": "1.5.0",
            "value": " 1.20k/1.20k [00:00&lt;00:00, 5.00kB/s]",
            "_view_count": null,
            "_view_module_version": "1.5.0",
            "description_tooltip": null,
            "_model_module": "@jupyter-widgets/controls",
            "layout": "IPY_MODEL_4a362b3a649a4b91b4315852412afc2c"
          }
        },
        "0e2e136159d649bb962ee75a6fd9cc14": {
          "model_module": "@jupyter-widgets/controls",
          "model_name": "ProgressStyleModel",
          "state": {
            "_view_name": "StyleView",
            "_model_name": "ProgressStyleModel",
            "description_width": "initial",
            "_view_module": "@jupyter-widgets/base",
            "_model_module_version": "1.5.0",
            "_view_count": null,
            "_view_module_version": "1.2.0",
            "bar_color": null,
            "_model_module": "@jupyter-widgets/controls"
          }
        },
        "9fc4130567924bf4835499185cc0ec5d": {
          "model_module": "@jupyter-widgets/base",
          "model_name": "LayoutModel",
          "state": {
            "_view_name": "LayoutView",
            "grid_template_rows": null,
            "right": null,
            "justify_content": null,
            "_view_module": "@jupyter-widgets/base",
            "overflow": null,
            "_model_module_version": "1.2.0",
            "_view_count": null,
            "flex_flow": null,
            "width": null,
            "min_width": null,
            "border": null,
            "align_items": null,
            "bottom": null,
            "_model_module": "@jupyter-widgets/base",
            "top": null,
            "grid_column": null,
            "overflow_y": null,
            "overflow_x": null,
            "grid_auto_flow": null,
            "grid_area": null,
            "grid_template_columns": null,
            "flex": null,
            "_model_name": "LayoutModel",
            "justify_items": null,
            "grid_row": null,
            "max_height": null,
            "align_content": null,
            "visibility": null,
            "align_self": null,
            "height": null,
            "min_height": null,
            "padding": null,
            "grid_auto_rows": null,
            "grid_gap": null,
            "max_width": null,
            "order": null,
            "_view_module_version": "1.2.0",
            "grid_template_areas": null,
            "object_position": null,
            "object_fit": null,
            "grid_auto_columns": null,
            "margin": null,
            "display": null,
            "left": null
          }
        },
        "2d9390e0883d4bd68850294cfa549ff9": {
          "model_module": "@jupyter-widgets/controls",
          "model_name": "DescriptionStyleModel",
          "state": {
            "_view_name": "StyleView",
            "_model_name": "DescriptionStyleModel",
            "description_width": "",
            "_view_module": "@jupyter-widgets/base",
            "_model_module_version": "1.5.0",
            "_view_count": null,
            "_view_module_version": "1.2.0",
            "_model_module": "@jupyter-widgets/controls"
          }
        },
        "4a362b3a649a4b91b4315852412afc2c": {
          "model_module": "@jupyter-widgets/base",
          "model_name": "LayoutModel",
          "state": {
            "_view_name": "LayoutView",
            "grid_template_rows": null,
            "right": null,
            "justify_content": null,
            "_view_module": "@jupyter-widgets/base",
            "overflow": null,
            "_model_module_version": "1.2.0",
            "_view_count": null,
            "flex_flow": null,
            "width": null,
            "min_width": null,
            "border": null,
            "align_items": null,
            "bottom": null,
            "_model_module": "@jupyter-widgets/base",
            "top": null,
            "grid_column": null,
            "overflow_y": null,
            "overflow_x": null,
            "grid_auto_flow": null,
            "grid_area": null,
            "grid_template_columns": null,
            "flex": null,
            "_model_name": "LayoutModel",
            "justify_items": null,
            "grid_row": null,
            "max_height": null,
            "align_content": null,
            "visibility": null,
            "align_self": null,
            "height": null,
            "min_height": null,
            "padding": null,
            "grid_auto_rows": null,
            "grid_gap": null,
            "max_width": null,
            "order": null,
            "_view_module_version": "1.2.0",
            "grid_template_areas": null,
            "object_position": null,
            "object_fit": null,
            "grid_auto_columns": null,
            "margin": null,
            "display": null,
            "left": null
          }
        },
        "adfbbb833abc4b8682a581f7f4789306": {
          "model_module": "@jupyter-widgets/controls",
          "model_name": "HBoxModel",
          "state": {
            "_view_name": "HBoxView",
            "_dom_classes": [],
            "_model_name": "HBoxModel",
            "_view_module": "@jupyter-widgets/controls",
            "_model_module_version": "1.5.0",
            "_view_count": null,
            "_view_module_version": "1.5.0",
            "box_style": "",
            "layout": "IPY_MODEL_b3de07d44de04306a9c5baa60be03a81",
            "_model_module": "@jupyter-widgets/controls",
            "children": [
              "IPY_MODEL_79bd495e12184f8390a15476c98d1d7b",
              "IPY_MODEL_cbef282ad6ad4841b7e64e3c1856404b"
            ]
          }
        },
        "b3de07d44de04306a9c5baa60be03a81": {
          "model_module": "@jupyter-widgets/base",
          "model_name": "LayoutModel",
          "state": {
            "_view_name": "LayoutView",
            "grid_template_rows": null,
            "right": null,
            "justify_content": null,
            "_view_module": "@jupyter-widgets/base",
            "overflow": null,
            "_model_module_version": "1.2.0",
            "_view_count": null,
            "flex_flow": null,
            "width": null,
            "min_width": null,
            "border": null,
            "align_items": null,
            "bottom": null,
            "_model_module": "@jupyter-widgets/base",
            "top": null,
            "grid_column": null,
            "overflow_y": null,
            "overflow_x": null,
            "grid_auto_flow": null,
            "grid_area": null,
            "grid_template_columns": null,
            "flex": null,
            "_model_name": "LayoutModel",
            "justify_items": null,
            "grid_row": null,
            "max_height": null,
            "align_content": null,
            "visibility": null,
            "align_self": null,
            "height": null,
            "min_height": null,
            "padding": null,
            "grid_auto_rows": null,
            "grid_gap": null,
            "max_width": null,
            "order": null,
            "_view_module_version": "1.2.0",
            "grid_template_areas": null,
            "object_position": null,
            "object_fit": null,
            "grid_auto_columns": null,
            "margin": null,
            "display": null,
            "left": null
          }
        },
        "79bd495e12184f8390a15476c98d1d7b": {
          "model_module": "@jupyter-widgets/controls",
          "model_name": "FloatProgressModel",
          "state": {
            "_view_name": "ProgressView",
            "style": "IPY_MODEL_e3cc41c8bc684e0a8d1202db9d276a9e",
            "_dom_classes": [],
            "description": "Downloading: 100%",
            "_model_name": "FloatProgressModel",
            "bar_style": "success",
            "max": 891691430,
            "_view_module": "@jupyter-widgets/controls",
            "_model_module_version": "1.5.0",
            "value": 891691430,
            "_view_count": null,
            "_view_module_version": "1.5.0",
            "orientation": "horizontal",
            "min": 0,
            "description_tooltip": null,
            "_model_module": "@jupyter-widgets/controls",
            "layout": "IPY_MODEL_5678ebb286034ee9b5f55d0aa2f2b379"
          }
        },
        "cbef282ad6ad4841b7e64e3c1856404b": {
          "model_module": "@jupyter-widgets/controls",
          "model_name": "HTMLModel",
          "state": {
            "_view_name": "HTMLView",
            "style": "IPY_MODEL_e8b8e6e628a7452587d5991e4081c7be",
            "_dom_classes": [],
            "description": "",
            "_model_name": "HTMLModel",
            "placeholder": "​",
            "_view_module": "@jupyter-widgets/controls",
            "_model_module_version": "1.5.0",
            "value": " 892M/892M [00:29&lt;00:00, 30.7MB/s]",
            "_view_count": null,
            "_view_module_version": "1.5.0",
            "description_tooltip": null,
            "_model_module": "@jupyter-widgets/controls",
            "layout": "IPY_MODEL_6da288d0d1f944f197f09e5c4a36adb3"
          }
        },
        "e3cc41c8bc684e0a8d1202db9d276a9e": {
          "model_module": "@jupyter-widgets/controls",
          "model_name": "ProgressStyleModel",
          "state": {
            "_view_name": "StyleView",
            "_model_name": "ProgressStyleModel",
            "description_width": "initial",
            "_view_module": "@jupyter-widgets/base",
            "_model_module_version": "1.5.0",
            "_view_count": null,
            "_view_module_version": "1.2.0",
            "bar_color": null,
            "_model_module": "@jupyter-widgets/controls"
          }
        },
        "5678ebb286034ee9b5f55d0aa2f2b379": {
          "model_module": "@jupyter-widgets/base",
          "model_name": "LayoutModel",
          "state": {
            "_view_name": "LayoutView",
            "grid_template_rows": null,
            "right": null,
            "justify_content": null,
            "_view_module": "@jupyter-widgets/base",
            "overflow": null,
            "_model_module_version": "1.2.0",
            "_view_count": null,
            "flex_flow": null,
            "width": null,
            "min_width": null,
            "border": null,
            "align_items": null,
            "bottom": null,
            "_model_module": "@jupyter-widgets/base",
            "top": null,
            "grid_column": null,
            "overflow_y": null,
            "overflow_x": null,
            "grid_auto_flow": null,
            "grid_area": null,
            "grid_template_columns": null,
            "flex": null,
            "_model_name": "LayoutModel",
            "justify_items": null,
            "grid_row": null,
            "max_height": null,
            "align_content": null,
            "visibility": null,
            "align_self": null,
            "height": null,
            "min_height": null,
            "padding": null,
            "grid_auto_rows": null,
            "grid_gap": null,
            "max_width": null,
            "order": null,
            "_view_module_version": "1.2.0",
            "grid_template_areas": null,
            "object_position": null,
            "object_fit": null,
            "grid_auto_columns": null,
            "margin": null,
            "display": null,
            "left": null
          }
        },
        "e8b8e6e628a7452587d5991e4081c7be": {
          "model_module": "@jupyter-widgets/controls",
          "model_name": "DescriptionStyleModel",
          "state": {
            "_view_name": "StyleView",
            "_model_name": "DescriptionStyleModel",
            "description_width": "",
            "_view_module": "@jupyter-widgets/base",
            "_model_module_version": "1.5.0",
            "_view_count": null,
            "_view_module_version": "1.2.0",
            "_model_module": "@jupyter-widgets/controls"
          }
        },
        "6da288d0d1f944f197f09e5c4a36adb3": {
          "model_module": "@jupyter-widgets/base",
          "model_name": "LayoutModel",
          "state": {
            "_view_name": "LayoutView",
            "grid_template_rows": null,
            "right": null,
            "justify_content": null,
            "_view_module": "@jupyter-widgets/base",
            "overflow": null,
            "_model_module_version": "1.2.0",
            "_view_count": null,
            "flex_flow": null,
            "width": null,
            "min_width": null,
            "border": null,
            "align_items": null,
            "bottom": null,
            "_model_module": "@jupyter-widgets/base",
            "top": null,
            "grid_column": null,
            "overflow_y": null,
            "overflow_x": null,
            "grid_auto_flow": null,
            "grid_area": null,
            "grid_template_columns": null,
            "flex": null,
            "_model_name": "LayoutModel",
            "justify_items": null,
            "grid_row": null,
            "max_height": null,
            "align_content": null,
            "visibility": null,
            "align_self": null,
            "height": null,
            "min_height": null,
            "padding": null,
            "grid_auto_rows": null,
            "grid_gap": null,
            "max_width": null,
            "order": null,
            "_view_module_version": "1.2.0",
            "grid_template_areas": null,
            "object_position": null,
            "object_fit": null,
            "grid_auto_columns": null,
            "margin": null,
            "display": null,
            "left": null
          }
        },
        "8cde885df26a4215b85ab9fed7304ab8": {
          "model_module": "@jupyter-widgets/controls",
          "model_name": "HBoxModel",
          "state": {
            "_view_name": "HBoxView",
            "_dom_classes": [],
            "_model_name": "HBoxModel",
            "_view_module": "@jupyter-widgets/controls",
            "_model_module_version": "1.5.0",
            "_view_count": null,
            "_view_module_version": "1.5.0",
            "box_style": "",
            "layout": "IPY_MODEL_1e40b14c535b4a709f4d90b02d6c8ae4",
            "_model_module": "@jupyter-widgets/controls",
            "children": [
              "IPY_MODEL_1015a43c6c3a4952bc444f60ae0a38e1",
              "IPY_MODEL_8d06826906434e2eb6de28da9c1ca54e"
            ]
          }
        },
        "1e40b14c535b4a709f4d90b02d6c8ae4": {
          "model_module": "@jupyter-widgets/base",
          "model_name": "LayoutModel",
          "state": {
            "_view_name": "LayoutView",
            "grid_template_rows": null,
            "right": null,
            "justify_content": null,
            "_view_module": "@jupyter-widgets/base",
            "overflow": null,
            "_model_module_version": "1.2.0",
            "_view_count": null,
            "flex_flow": null,
            "width": null,
            "min_width": null,
            "border": null,
            "align_items": null,
            "bottom": null,
            "_model_module": "@jupyter-widgets/base",
            "top": null,
            "grid_column": null,
            "overflow_y": null,
            "overflow_x": null,
            "grid_auto_flow": null,
            "grid_area": null,
            "grid_template_columns": null,
            "flex": null,
            "_model_name": "LayoutModel",
            "justify_items": null,
            "grid_row": null,
            "max_height": null,
            "align_content": null,
            "visibility": null,
            "align_self": null,
            "height": null,
            "min_height": null,
            "padding": null,
            "grid_auto_rows": null,
            "grid_gap": null,
            "max_width": null,
            "order": null,
            "_view_module_version": "1.2.0",
            "grid_template_areas": null,
            "object_position": null,
            "object_fit": null,
            "grid_auto_columns": null,
            "margin": null,
            "display": null,
            "left": null
          }
        },
        "1015a43c6c3a4952bc444f60ae0a38e1": {
          "model_module": "@jupyter-widgets/controls",
          "model_name": "FloatProgressModel",
          "state": {
            "_view_name": "ProgressView",
            "style": "IPY_MODEL_1be16c44a1384f53ac6c996867477508",
            "_dom_classes": [],
            "description": "Downloading: 100%",
            "_model_name": "FloatProgressModel",
            "bar_style": "success",
            "max": 791656,
            "_view_module": "@jupyter-widgets/controls",
            "_model_module_version": "1.5.0",
            "value": 791656,
            "_view_count": null,
            "_view_module_version": "1.5.0",
            "orientation": "horizontal",
            "min": 0,
            "description_tooltip": null,
            "_model_module": "@jupyter-widgets/controls",
            "layout": "IPY_MODEL_f008f3a099324f3a98aad8b17f60cf3e"
          }
        },
        "8d06826906434e2eb6de28da9c1ca54e": {
          "model_module": "@jupyter-widgets/controls",
          "model_name": "HTMLModel",
          "state": {
            "_view_name": "HTMLView",
            "style": "IPY_MODEL_b1805a3d1ba84931b6a5b10da08b4889",
            "_dom_classes": [],
            "description": "",
            "_model_name": "HTMLModel",
            "placeholder": "​",
            "_view_module": "@jupyter-widgets/controls",
            "_model_module_version": "1.5.0",
            "value": " 792k/792k [00:00&lt;00:00, 2.45MB/s]",
            "_view_count": null,
            "_view_module_version": "1.5.0",
            "description_tooltip": null,
            "_model_module": "@jupyter-widgets/controls",
            "layout": "IPY_MODEL_edefad32efb44117bf221746f756a967"
          }
        },
        "1be16c44a1384f53ac6c996867477508": {
          "model_module": "@jupyter-widgets/controls",
          "model_name": "ProgressStyleModel",
          "state": {
            "_view_name": "StyleView",
            "_model_name": "ProgressStyleModel",
            "description_width": "initial",
            "_view_module": "@jupyter-widgets/base",
            "_model_module_version": "1.5.0",
            "_view_count": null,
            "_view_module_version": "1.2.0",
            "bar_color": null,
            "_model_module": "@jupyter-widgets/controls"
          }
        },
        "f008f3a099324f3a98aad8b17f60cf3e": {
          "model_module": "@jupyter-widgets/base",
          "model_name": "LayoutModel",
          "state": {
            "_view_name": "LayoutView",
            "grid_template_rows": null,
            "right": null,
            "justify_content": null,
            "_view_module": "@jupyter-widgets/base",
            "overflow": null,
            "_model_module_version": "1.2.0",
            "_view_count": null,
            "flex_flow": null,
            "width": null,
            "min_width": null,
            "border": null,
            "align_items": null,
            "bottom": null,
            "_model_module": "@jupyter-widgets/base",
            "top": null,
            "grid_column": null,
            "overflow_y": null,
            "overflow_x": null,
            "grid_auto_flow": null,
            "grid_area": null,
            "grid_template_columns": null,
            "flex": null,
            "_model_name": "LayoutModel",
            "justify_items": null,
            "grid_row": null,
            "max_height": null,
            "align_content": null,
            "visibility": null,
            "align_self": null,
            "height": null,
            "min_height": null,
            "padding": null,
            "grid_auto_rows": null,
            "grid_gap": null,
            "max_width": null,
            "order": null,
            "_view_module_version": "1.2.0",
            "grid_template_areas": null,
            "object_position": null,
            "object_fit": null,
            "grid_auto_columns": null,
            "margin": null,
            "display": null,
            "left": null
          }
        },
        "b1805a3d1ba84931b6a5b10da08b4889": {
          "model_module": "@jupyter-widgets/controls",
          "model_name": "DescriptionStyleModel",
          "state": {
            "_view_name": "StyleView",
            "_model_name": "DescriptionStyleModel",
            "description_width": "",
            "_view_module": "@jupyter-widgets/base",
            "_model_module_version": "1.5.0",
            "_view_count": null,
            "_view_module_version": "1.2.0",
            "_model_module": "@jupyter-widgets/controls"
          }
        },
        "edefad32efb44117bf221746f756a967": {
          "model_module": "@jupyter-widgets/base",
          "model_name": "LayoutModel",
          "state": {
            "_view_name": "LayoutView",
            "grid_template_rows": null,
            "right": null,
            "justify_content": null,
            "_view_module": "@jupyter-widgets/base",
            "overflow": null,
            "_model_module_version": "1.2.0",
            "_view_count": null,
            "flex_flow": null,
            "width": null,
            "min_width": null,
            "border": null,
            "align_items": null,
            "bottom": null,
            "_model_module": "@jupyter-widgets/base",
            "top": null,
            "grid_column": null,
            "overflow_y": null,
            "overflow_x": null,
            "grid_auto_flow": null,
            "grid_area": null,
            "grid_template_columns": null,
            "flex": null,
            "_model_name": "LayoutModel",
            "justify_items": null,
            "grid_row": null,
            "max_height": null,
            "align_content": null,
            "visibility": null,
            "align_self": null,
            "height": null,
            "min_height": null,
            "padding": null,
            "grid_auto_rows": null,
            "grid_gap": null,
            "max_width": null,
            "order": null,
            "_view_module_version": "1.2.0",
            "grid_template_areas": null,
            "object_position": null,
            "object_fit": null,
            "grid_auto_columns": null,
            "margin": null,
            "display": null,
            "left": null
          }
        },
        "1c875d48bc134614a061be01bb9d551a": {
          "model_module": "@jupyter-widgets/controls",
          "model_name": "HBoxModel",
          "state": {
            "_view_name": "HBoxView",
            "_dom_classes": [],
            "_model_name": "HBoxModel",
            "_view_module": "@jupyter-widgets/controls",
            "_model_module_version": "1.5.0",
            "_view_count": null,
            "_view_module_version": "1.5.0",
            "box_style": "",
            "layout": "IPY_MODEL_7e3739a8e3e241299e97c001686185b4",
            "_model_module": "@jupyter-widgets/controls",
            "children": [
              "IPY_MODEL_414b681884564228afabaadb57fbdc5b",
              "IPY_MODEL_4e7442bb5c5b4cd893b8832f64ea2e1c"
            ]
          }
        },
        "7e3739a8e3e241299e97c001686185b4": {
          "model_module": "@jupyter-widgets/base",
          "model_name": "LayoutModel",
          "state": {
            "_view_name": "LayoutView",
            "grid_template_rows": null,
            "right": null,
            "justify_content": null,
            "_view_module": "@jupyter-widgets/base",
            "overflow": null,
            "_model_module_version": "1.2.0",
            "_view_count": null,
            "flex_flow": null,
            "width": null,
            "min_width": null,
            "border": null,
            "align_items": null,
            "bottom": null,
            "_model_module": "@jupyter-widgets/base",
            "top": null,
            "grid_column": null,
            "overflow_y": null,
            "overflow_x": null,
            "grid_auto_flow": null,
            "grid_area": null,
            "grid_template_columns": null,
            "flex": null,
            "_model_name": "LayoutModel",
            "justify_items": null,
            "grid_row": null,
            "max_height": null,
            "align_content": null,
            "visibility": null,
            "align_self": null,
            "height": null,
            "min_height": null,
            "padding": null,
            "grid_auto_rows": null,
            "grid_gap": null,
            "max_width": null,
            "order": null,
            "_view_module_version": "1.2.0",
            "grid_template_areas": null,
            "object_position": null,
            "object_fit": null,
            "grid_auto_columns": null,
            "margin": null,
            "display": null,
            "left": null
          }
        },
        "414b681884564228afabaadb57fbdc5b": {
          "model_module": "@jupyter-widgets/controls",
          "model_name": "FloatProgressModel",
          "state": {
            "_view_name": "ProgressView",
            "style": "IPY_MODEL_5ce9cc3e74454ed081a19707a1fa9c8d",
            "_dom_classes": [],
            "description": "Downloading: 100%",
            "_model_name": "FloatProgressModel",
            "bar_style": "success",
            "max": 1389353,
            "_view_module": "@jupyter-widgets/controls",
            "_model_module_version": "1.5.0",
            "value": 1389353,
            "_view_count": null,
            "_view_module_version": "1.5.0",
            "orientation": "horizontal",
            "min": 0,
            "description_tooltip": null,
            "_model_module": "@jupyter-widgets/controls",
            "layout": "IPY_MODEL_549dcd5ca3954e2986b1be94be08a951"
          }
        },
        "4e7442bb5c5b4cd893b8832f64ea2e1c": {
          "model_module": "@jupyter-widgets/controls",
          "model_name": "HTMLModel",
          "state": {
            "_view_name": "HTMLView",
            "style": "IPY_MODEL_e8271f30dae44d888cc122f3216c0d90",
            "_dom_classes": [],
            "description": "",
            "_model_name": "HTMLModel",
            "placeholder": "​",
            "_view_module": "@jupyter-widgets/controls",
            "_model_module_version": "1.5.0",
            "value": " 1.39M/1.39M [1:10:57&lt;00:00, 326B/s]",
            "_view_count": null,
            "_view_module_version": "1.5.0",
            "description_tooltip": null,
            "_model_module": "@jupyter-widgets/controls",
            "layout": "IPY_MODEL_6b90a7b608fc4904bdda2b01fe51d324"
          }
        },
        "5ce9cc3e74454ed081a19707a1fa9c8d": {
          "model_module": "@jupyter-widgets/controls",
          "model_name": "ProgressStyleModel",
          "state": {
            "_view_name": "StyleView",
            "_model_name": "ProgressStyleModel",
            "description_width": "initial",
            "_view_module": "@jupyter-widgets/base",
            "_model_module_version": "1.5.0",
            "_view_count": null,
            "_view_module_version": "1.2.0",
            "bar_color": null,
            "_model_module": "@jupyter-widgets/controls"
          }
        },
        "549dcd5ca3954e2986b1be94be08a951": {
          "model_module": "@jupyter-widgets/base",
          "model_name": "LayoutModel",
          "state": {
            "_view_name": "LayoutView",
            "grid_template_rows": null,
            "right": null,
            "justify_content": null,
            "_view_module": "@jupyter-widgets/base",
            "overflow": null,
            "_model_module_version": "1.2.0",
            "_view_count": null,
            "flex_flow": null,
            "width": null,
            "min_width": null,
            "border": null,
            "align_items": null,
            "bottom": null,
            "_model_module": "@jupyter-widgets/base",
            "top": null,
            "grid_column": null,
            "overflow_y": null,
            "overflow_x": null,
            "grid_auto_flow": null,
            "grid_area": null,
            "grid_template_columns": null,
            "flex": null,
            "_model_name": "LayoutModel",
            "justify_items": null,
            "grid_row": null,
            "max_height": null,
            "align_content": null,
            "visibility": null,
            "align_self": null,
            "height": null,
            "min_height": null,
            "padding": null,
            "grid_auto_rows": null,
            "grid_gap": null,
            "max_width": null,
            "order": null,
            "_view_module_version": "1.2.0",
            "grid_template_areas": null,
            "object_position": null,
            "object_fit": null,
            "grid_auto_columns": null,
            "margin": null,
            "display": null,
            "left": null
          }
        },
        "e8271f30dae44d888cc122f3216c0d90": {
          "model_module": "@jupyter-widgets/controls",
          "model_name": "DescriptionStyleModel",
          "state": {
            "_view_name": "StyleView",
            "_model_name": "DescriptionStyleModel",
            "description_width": "",
            "_view_module": "@jupyter-widgets/base",
            "_model_module_version": "1.5.0",
            "_view_count": null,
            "_view_module_version": "1.2.0",
            "_model_module": "@jupyter-widgets/controls"
          }
        },
        "6b90a7b608fc4904bdda2b01fe51d324": {
          "model_module": "@jupyter-widgets/base",
          "model_name": "LayoutModel",
          "state": {
            "_view_name": "LayoutView",
            "grid_template_rows": null,
            "right": null,
            "justify_content": null,
            "_view_module": "@jupyter-widgets/base",
            "overflow": null,
            "_model_module_version": "1.2.0",
            "_view_count": null,
            "flex_flow": null,
            "width": null,
            "min_width": null,
            "border": null,
            "align_items": null,
            "bottom": null,
            "_model_module": "@jupyter-widgets/base",
            "top": null,
            "grid_column": null,
            "overflow_y": null,
            "overflow_x": null,
            "grid_auto_flow": null,
            "grid_area": null,
            "grid_template_columns": null,
            "flex": null,
            "_model_name": "LayoutModel",
            "justify_items": null,
            "grid_row": null,
            "max_height": null,
            "align_content": null,
            "visibility": null,
            "align_self": null,
            "height": null,
            "min_height": null,
            "padding": null,
            "grid_auto_rows": null,
            "grid_gap": null,
            "max_width": null,
            "order": null,
            "_view_module_version": "1.2.0",
            "grid_template_areas": null,
            "object_position": null,
            "object_fit": null,
            "grid_auto_columns": null,
            "margin": null,
            "display": null,
            "left": null
          }
        }
      }
    }
  },
  "cells": [
    {
      "cell_type": "markdown",
      "metadata": {
        "id": "-u5vsP0znNPF"
      },
      "source": [
        "# 패키지 업로드"
      ]
    },
    {
      "cell_type": "code",
      "metadata": {
        "colab": {
          "base_uri": "https://localhost:8080/"
        },
        "id": "xOOI_616wl1f",
        "outputId": "ac7a164a-6397-4544-8e31-0426897b3994"
      },
      "source": [
        "!pip install transformers\n",
        "!pip install rouge\n",
        "!pip install rouge-score"
      ],
      "execution_count": 2,
      "outputs": [
        {
          "output_type": "stream",
          "text": [
            "Collecting transformers\n",
            "\u001b[?25l  Downloading https://files.pythonhosted.org/packages/d8/b2/57495b5309f09fa501866e225c84532d1fd89536ea62406b2181933fb418/transformers-4.5.1-py3-none-any.whl (2.1MB)\n",
            "\r\u001b[K     |▏                               | 10kB 17.5MB/s eta 0:00:01\r\u001b[K     |▎                               | 20kB 10.2MB/s eta 0:00:01\r\u001b[K     |▌                               | 30kB 9.7MB/s eta 0:00:01\r\u001b[K     |▋                               | 40kB 8.8MB/s eta 0:00:01\r\u001b[K     |▉                               | 51kB 5.1MB/s eta 0:00:01\r\u001b[K     |█                               | 61kB 5.5MB/s eta 0:00:01\r\u001b[K     |█▏                              | 71kB 5.7MB/s eta 0:00:01\r\u001b[K     |█▎                              | 81kB 5.7MB/s eta 0:00:01\r\u001b[K     |█▍                              | 92kB 6.1MB/s eta 0:00:01\r\u001b[K     |█▋                              | 102kB 4.8MB/s eta 0:00:01\r\u001b[K     |█▊                              | 112kB 4.8MB/s eta 0:00:01\r\u001b[K     |██                              | 122kB 4.8MB/s eta 0:00:01\r\u001b[K     |██                              | 133kB 4.8MB/s eta 0:00:01\r\u001b[K     |██▎                             | 143kB 4.8MB/s eta 0:00:01\r\u001b[K     |██▍                             | 153kB 4.8MB/s eta 0:00:01\r\u001b[K     |██▌                             | 163kB 4.8MB/s eta 0:00:01\r\u001b[K     |██▊                             | 174kB 4.8MB/s eta 0:00:01\r\u001b[K     |██▉                             | 184kB 4.8MB/s eta 0:00:01\r\u001b[K     |███                             | 194kB 4.8MB/s eta 0:00:01\r\u001b[K     |███▏                            | 204kB 4.8MB/s eta 0:00:01\r\u001b[K     |███▍                            | 215kB 4.8MB/s eta 0:00:01\r\u001b[K     |███▌                            | 225kB 4.8MB/s eta 0:00:01\r\u001b[K     |███▋                            | 235kB 4.8MB/s eta 0:00:01\r\u001b[K     |███▉                            | 245kB 4.8MB/s eta 0:00:01\r\u001b[K     |████                            | 256kB 4.8MB/s eta 0:00:01\r\u001b[K     |████▏                           | 266kB 4.8MB/s eta 0:00:01\r\u001b[K     |████▎                           | 276kB 4.8MB/s eta 0:00:01\r\u001b[K     |████▌                           | 286kB 4.8MB/s eta 0:00:01\r\u001b[K     |████▋                           | 296kB 4.8MB/s eta 0:00:01\r\u001b[K     |████▊                           | 307kB 4.8MB/s eta 0:00:01\r\u001b[K     |█████                           | 317kB 4.8MB/s eta 0:00:01\r\u001b[K     |█████                           | 327kB 4.8MB/s eta 0:00:01\r\u001b[K     |█████▎                          | 337kB 4.8MB/s eta 0:00:01\r\u001b[K     |█████▍                          | 348kB 4.8MB/s eta 0:00:01\r\u001b[K     |█████▋                          | 358kB 4.8MB/s eta 0:00:01\r\u001b[K     |█████▊                          | 368kB 4.8MB/s eta 0:00:01\r\u001b[K     |█████▉                          | 378kB 4.8MB/s eta 0:00:01\r\u001b[K     |██████                          | 389kB 4.8MB/s eta 0:00:01\r\u001b[K     |██████▏                         | 399kB 4.8MB/s eta 0:00:01\r\u001b[K     |██████▍                         | 409kB 4.8MB/s eta 0:00:01\r\u001b[K     |██████▌                         | 419kB 4.8MB/s eta 0:00:01\r\u001b[K     |██████▊                         | 430kB 4.8MB/s eta 0:00:01\r\u001b[K     |██████▉                         | 440kB 4.8MB/s eta 0:00:01\r\u001b[K     |███████                         | 450kB 4.8MB/s eta 0:00:01\r\u001b[K     |███████▏                        | 460kB 4.8MB/s eta 0:00:01\r\u001b[K     |███████▎                        | 471kB 4.8MB/s eta 0:00:01\r\u001b[K     |███████▌                        | 481kB 4.8MB/s eta 0:00:01\r\u001b[K     |███████▋                        | 491kB 4.8MB/s eta 0:00:01\r\u001b[K     |███████▉                        | 501kB 4.8MB/s eta 0:00:01\r\u001b[K     |████████                        | 512kB 4.8MB/s eta 0:00:01\r\u001b[K     |████████                        | 522kB 4.8MB/s eta 0:00:01\r\u001b[K     |████████▎                       | 532kB 4.8MB/s eta 0:00:01\r\u001b[K     |████████▍                       | 542kB 4.8MB/s eta 0:00:01\r\u001b[K     |████████▋                       | 552kB 4.8MB/s eta 0:00:01\r\u001b[K     |████████▊                       | 563kB 4.8MB/s eta 0:00:01\r\u001b[K     |█████████                       | 573kB 4.8MB/s eta 0:00:01\r\u001b[K     |█████████                       | 583kB 4.8MB/s eta 0:00:01\r\u001b[K     |█████████▎                      | 593kB 4.8MB/s eta 0:00:01\r\u001b[K     |█████████▍                      | 604kB 4.8MB/s eta 0:00:01\r\u001b[K     |█████████▌                      | 614kB 4.8MB/s eta 0:00:01\r\u001b[K     |█████████▊                      | 624kB 4.8MB/s eta 0:00:01\r\u001b[K     |█████████▉                      | 634kB 4.8MB/s eta 0:00:01\r\u001b[K     |██████████                      | 645kB 4.8MB/s eta 0:00:01\r\u001b[K     |██████████▏                     | 655kB 4.8MB/s eta 0:00:01\r\u001b[K     |██████████▍                     | 665kB 4.8MB/s eta 0:00:01\r\u001b[K     |██████████▌                     | 675kB 4.8MB/s eta 0:00:01\r\u001b[K     |██████████▋                     | 686kB 4.8MB/s eta 0:00:01\r\u001b[K     |██████████▉                     | 696kB 4.8MB/s eta 0:00:01\r\u001b[K     |███████████                     | 706kB 4.8MB/s eta 0:00:01\r\u001b[K     |███████████▏                    | 716kB 4.8MB/s eta 0:00:01\r\u001b[K     |███████████▎                    | 727kB 4.8MB/s eta 0:00:01\r\u001b[K     |███████████▌                    | 737kB 4.8MB/s eta 0:00:01\r\u001b[K     |███████████▋                    | 747kB 4.8MB/s eta 0:00:01\r\u001b[K     |███████████▊                    | 757kB 4.8MB/s eta 0:00:01\r\u001b[K     |████████████                    | 768kB 4.8MB/s eta 0:00:01\r\u001b[K     |████████████                    | 778kB 4.8MB/s eta 0:00:01\r\u001b[K     |████████████▎                   | 788kB 4.8MB/s eta 0:00:01\r\u001b[K     |████████████▍                   | 798kB 4.8MB/s eta 0:00:01\r\u001b[K     |████████████▋                   | 808kB 4.8MB/s eta 0:00:01\r\u001b[K     |████████████▊                   | 819kB 4.8MB/s eta 0:00:01\r\u001b[K     |████████████▉                   | 829kB 4.8MB/s eta 0:00:01\r\u001b[K     |█████████████                   | 839kB 4.8MB/s eta 0:00:01\r\u001b[K     |█████████████▏                  | 849kB 4.8MB/s eta 0:00:01\r\u001b[K     |█████████████▍                  | 860kB 4.8MB/s eta 0:00:01\r\u001b[K     |█████████████▌                  | 870kB 4.8MB/s eta 0:00:01\r\u001b[K     |█████████████▊                  | 880kB 4.8MB/s eta 0:00:01\r\u001b[K     |█████████████▉                  | 890kB 4.8MB/s eta 0:00:01\r\u001b[K     |██████████████                  | 901kB 4.8MB/s eta 0:00:01\r\u001b[K     |██████████████▏                 | 911kB 4.8MB/s eta 0:00:01\r\u001b[K     |██████████████▎                 | 921kB 4.8MB/s eta 0:00:01\r\u001b[K     |██████████████▌                 | 931kB 4.8MB/s eta 0:00:01\r\u001b[K     |██████████████▋                 | 942kB 4.8MB/s eta 0:00:01\r\u001b[K     |██████████████▉                 | 952kB 4.8MB/s eta 0:00:01\r\u001b[K     |███████████████                 | 962kB 4.8MB/s eta 0:00:01\r\u001b[K     |███████████████                 | 972kB 4.8MB/s eta 0:00:01\r\u001b[K     |███████████████▎                | 983kB 4.8MB/s eta 0:00:01\r\u001b[K     |███████████████▍                | 993kB 4.8MB/s eta 0:00:01\r\u001b[K     |███████████████▋                | 1.0MB 4.8MB/s eta 0:00:01\r\u001b[K     |███████████████▊                | 1.0MB 4.8MB/s eta 0:00:01\r\u001b[K     |████████████████                | 1.0MB 4.8MB/s eta 0:00:01\r\u001b[K     |████████████████                | 1.0MB 4.8MB/s eta 0:00:01\r\u001b[K     |████████████████▏               | 1.0MB 4.8MB/s eta 0:00:01\r\u001b[K     |████████████████▍               | 1.1MB 4.8MB/s eta 0:00:01\r\u001b[K     |████████████████▌               | 1.1MB 4.8MB/s eta 0:00:01\r\u001b[K     |████████████████▊               | 1.1MB 4.8MB/s eta 0:00:01\r\u001b[K     |████████████████▉               | 1.1MB 4.8MB/s eta 0:00:01\r\u001b[K     |█████████████████               | 1.1MB 4.8MB/s eta 0:00:01\r\u001b[K     |█████████████████▏              | 1.1MB 4.8MB/s eta 0:00:01\r\u001b[K     |█████████████████▍              | 1.1MB 4.8MB/s eta 0:00:01\r\u001b[K     |█████████████████▌              | 1.1MB 4.8MB/s eta 0:00:01\r\u001b[K     |█████████████████▋              | 1.1MB 4.8MB/s eta 0:00:01\r\u001b[K     |█████████████████▉              | 1.1MB 4.8MB/s eta 0:00:01\r\u001b[K     |██████████████████              | 1.2MB 4.8MB/s eta 0:00:01\r\u001b[K     |██████████████████▏             | 1.2MB 4.8MB/s eta 0:00:01\r\u001b[K     |██████████████████▎             | 1.2MB 4.8MB/s eta 0:00:01\r\u001b[K     |██████████████████▌             | 1.2MB 4.8MB/s eta 0:00:01\r\u001b[K     |██████████████████▋             | 1.2MB 4.8MB/s eta 0:00:01\r\u001b[K     |██████████████████▊             | 1.2MB 4.8MB/s eta 0:00:01\r\u001b[K     |███████████████████             | 1.2MB 4.8MB/s eta 0:00:01\r\u001b[K     |███████████████████             | 1.2MB 4.8MB/s eta 0:00:01\r\u001b[K     |███████████████████▎            | 1.2MB 4.8MB/s eta 0:00:01\r\u001b[K     |███████████████████▍            | 1.2MB 4.8MB/s eta 0:00:01\r\u001b[K     |███████████████████▋            | 1.3MB 4.8MB/s eta 0:00:01\r\u001b[K     |███████████████████▊            | 1.3MB 4.8MB/s eta 0:00:01\r\u001b[K     |███████████████████▉            | 1.3MB 4.8MB/s eta 0:00:01\r\u001b[K     |████████████████████            | 1.3MB 4.8MB/s eta 0:00:01\r\u001b[K     |████████████████████▏           | 1.3MB 4.8MB/s eta 0:00:01\r\u001b[K     |████████████████████▍           | 1.3MB 4.8MB/s eta 0:00:01\r\u001b[K     |████████████████████▌           | 1.3MB 4.8MB/s eta 0:00:01\r\u001b[K     |████████████████████▊           | 1.3MB 4.8MB/s eta 0:00:01\r\u001b[K     |████████████████████▉           | 1.3MB 4.8MB/s eta 0:00:01\r\u001b[K     |█████████████████████           | 1.4MB 4.8MB/s eta 0:00:01\r\u001b[K     |█████████████████████▏          | 1.4MB 4.8MB/s eta 0:00:01\r\u001b[K     |█████████████████████▎          | 1.4MB 4.8MB/s eta 0:00:01\r\u001b[K     |█████████████████████▌          | 1.4MB 4.8MB/s eta 0:00:01\r\u001b[K     |█████████████████████▋          | 1.4MB 4.8MB/s eta 0:00:01\r\u001b[K     |█████████████████████▉          | 1.4MB 4.8MB/s eta 0:00:01\r\u001b[K     |██████████████████████          | 1.4MB 4.8MB/s eta 0:00:01\r\u001b[K     |██████████████████████          | 1.4MB 4.8MB/s eta 0:00:01\r\u001b[K     |██████████████████████▎         | 1.4MB 4.8MB/s eta 0:00:01\r\u001b[K     |██████████████████████▍         | 1.4MB 4.8MB/s eta 0:00:01\r\u001b[K     |██████████████████████▋         | 1.5MB 4.8MB/s eta 0:00:01\r\u001b[K     |██████████████████████▊         | 1.5MB 4.8MB/s eta 0:00:01\r\u001b[K     |███████████████████████         | 1.5MB 4.8MB/s eta 0:00:01\r\u001b[K     |███████████████████████         | 1.5MB 4.8MB/s eta 0:00:01\r\u001b[K     |███████████████████████▏        | 1.5MB 4.8MB/s eta 0:00:01\r\u001b[K     |███████████████████████▍        | 1.5MB 4.8MB/s eta 0:00:01\r\u001b[K     |███████████████████████▌        | 1.5MB 4.8MB/s eta 0:00:01\r\u001b[K     |███████████████████████▊        | 1.5MB 4.8MB/s eta 0:00:01\r\u001b[K     |███████████████████████▉        | 1.5MB 4.8MB/s eta 0:00:01\r\u001b[K     |████████████████████████        | 1.5MB 4.8MB/s eta 0:00:01\r\u001b[K     |████████████████████████▏       | 1.6MB 4.8MB/s eta 0:00:01\r\u001b[K     |████████████████████████▎       | 1.6MB 4.8MB/s eta 0:00:01\r\u001b[K     |████████████████████████▌       | 1.6MB 4.8MB/s eta 0:00:01\r\u001b[K     |████████████████████████▋       | 1.6MB 4.8MB/s eta 0:00:01\r\u001b[K     |████████████████████████▉       | 1.6MB 4.8MB/s eta 0:00:01\r\u001b[K     |█████████████████████████       | 1.6MB 4.8MB/s eta 0:00:01\r\u001b[K     |█████████████████████████▏      | 1.6MB 4.8MB/s eta 0:00:01\r\u001b[K     |█████████████████████████▎      | 1.6MB 4.8MB/s eta 0:00:01\r\u001b[K     |█████████████████████████▍      | 1.6MB 4.8MB/s eta 0:00:01\r\u001b[K     |█████████████████████████▋      | 1.6MB 4.8MB/s eta 0:00:01\r\u001b[K     |█████████████████████████▊      | 1.7MB 4.8MB/s eta 0:00:01\r\u001b[K     |██████████████████████████      | 1.7MB 4.8MB/s eta 0:00:01\r\u001b[K     |██████████████████████████      | 1.7MB 4.8MB/s eta 0:00:01\r\u001b[K     |██████████████████████████▎     | 1.7MB 4.8MB/s eta 0:00:01\r\u001b[K     |██████████████████████████▍     | 1.7MB 4.8MB/s eta 0:00:01\r\u001b[K     |██████████████████████████▋     | 1.7MB 4.8MB/s eta 0:00:01\r\u001b[K     |██████████████████████████▊     | 1.7MB 4.8MB/s eta 0:00:01\r\u001b[K     |██████████████████████████▉     | 1.7MB 4.8MB/s eta 0:00:01\r\u001b[K     |███████████████████████████     | 1.7MB 4.8MB/s eta 0:00:01\r\u001b[K     |███████████████████████████▏    | 1.8MB 4.8MB/s eta 0:00:01\r\u001b[K     |███████████████████████████▍    | 1.8MB 4.8MB/s eta 0:00:01\r\u001b[K     |███████████████████████████▌    | 1.8MB 4.8MB/s eta 0:00:01\r\u001b[K     |███████████████████████████▊    | 1.8MB 4.8MB/s eta 0:00:01\r\u001b[K     |███████████████████████████▉    | 1.8MB 4.8MB/s eta 0:00:01\r\u001b[K     |████████████████████████████    | 1.8MB 4.8MB/s eta 0:00:01\r\u001b[K     |████████████████████████████▏   | 1.8MB 4.8MB/s eta 0:00:01\r\u001b[K     |████████████████████████████▎   | 1.8MB 4.8MB/s eta 0:00:01\r\u001b[K     |████████████████████████████▌   | 1.8MB 4.8MB/s eta 0:00:01\r\u001b[K     |████████████████████████████▋   | 1.8MB 4.8MB/s eta 0:00:01\r\u001b[K     |████████████████████████████▉   | 1.9MB 4.8MB/s eta 0:00:01\r\u001b[K     |█████████████████████████████   | 1.9MB 4.8MB/s eta 0:00:01\r\u001b[K     |█████████████████████████████   | 1.9MB 4.8MB/s eta 0:00:01\r\u001b[K     |█████████████████████████████▎  | 1.9MB 4.8MB/s eta 0:00:01\r\u001b[K     |█████████████████████████████▍  | 1.9MB 4.8MB/s eta 0:00:01\r\u001b[K     |█████████████████████████████▋  | 1.9MB 4.8MB/s eta 0:00:01\r\u001b[K     |█████████████████████████████▊  | 1.9MB 4.8MB/s eta 0:00:01\r\u001b[K     |██████████████████████████████  | 1.9MB 4.8MB/s eta 0:00:01\r\u001b[K     |██████████████████████████████  | 1.9MB 4.8MB/s eta 0:00:01\r\u001b[K     |██████████████████████████████▏ | 1.9MB 4.8MB/s eta 0:00:01\r\u001b[K     |██████████████████████████████▍ | 2.0MB 4.8MB/s eta 0:00:01\r\u001b[K     |██████████████████████████████▌ | 2.0MB 4.8MB/s eta 0:00:01\r\u001b[K     |██████████████████████████████▊ | 2.0MB 4.8MB/s eta 0:00:01\r\u001b[K     |██████████████████████████████▉ | 2.0MB 4.8MB/s eta 0:00:01\r\u001b[K     |███████████████████████████████ | 2.0MB 4.8MB/s eta 0:00:01\r\u001b[K     |███████████████████████████████▏| 2.0MB 4.8MB/s eta 0:00:01\r\u001b[K     |███████████████████████████████▎| 2.0MB 4.8MB/s eta 0:00:01\r\u001b[K     |███████████████████████████████▌| 2.0MB 4.8MB/s eta 0:00:01\r\u001b[K     |███████████████████████████████▋| 2.0MB 4.8MB/s eta 0:00:01\r\u001b[K     |███████████████████████████████▉| 2.0MB 4.8MB/s eta 0:00:01\r\u001b[K     |████████████████████████████████| 2.1MB 4.8MB/s eta 0:00:01\r\u001b[K     |████████████████████████████████| 2.1MB 4.8MB/s \n",
            "\u001b[?25hRequirement already satisfied: numpy>=1.17 in /usr/local/lib/python3.7/dist-packages (from transformers) (1.19.5)\n",
            "Collecting tokenizers<0.11,>=0.10.1\n",
            "\u001b[?25l  Downloading https://files.pythonhosted.org/packages/ae/04/5b870f26a858552025a62f1649c20d29d2672c02ff3c3fb4c688ca46467a/tokenizers-0.10.2-cp37-cp37m-manylinux2010_x86_64.whl (3.3MB)\n",
            "\u001b[K     |████████████████████████████████| 3.3MB 35.3MB/s \n",
            "\u001b[?25hRequirement already satisfied: importlib-metadata; python_version < \"3.8\" in /usr/local/lib/python3.7/dist-packages (from transformers) (3.10.1)\n",
            "Requirement already satisfied: tqdm>=4.27 in /usr/local/lib/python3.7/dist-packages (from transformers) (4.41.1)\n",
            "Requirement already satisfied: packaging in /usr/local/lib/python3.7/dist-packages (from transformers) (20.9)\n",
            "Collecting sacremoses\n",
            "\u001b[?25l  Downloading https://files.pythonhosted.org/packages/75/ee/67241dc87f266093c533a2d4d3d69438e57d7a90abb216fa076e7d475d4a/sacremoses-0.0.45-py3-none-any.whl (895kB)\n",
            "\u001b[K     |████████████████████████████████| 901kB 49.0MB/s \n",
            "\u001b[?25hRequirement already satisfied: requests in /usr/local/lib/python3.7/dist-packages (from transformers) (2.23.0)\n",
            "Requirement already satisfied: filelock in /usr/local/lib/python3.7/dist-packages (from transformers) (3.0.12)\n",
            "Requirement already satisfied: regex!=2019.12.17 in /usr/local/lib/python3.7/dist-packages (from transformers) (2019.12.20)\n",
            "Requirement already satisfied: zipp>=0.5 in /usr/local/lib/python3.7/dist-packages (from importlib-metadata; python_version < \"3.8\"->transformers) (3.4.1)\n",
            "Requirement already satisfied: typing-extensions>=3.6.4; python_version < \"3.8\" in /usr/local/lib/python3.7/dist-packages (from importlib-metadata; python_version < \"3.8\"->transformers) (3.7.4.3)\n",
            "Requirement already satisfied: pyparsing>=2.0.2 in /usr/local/lib/python3.7/dist-packages (from packaging->transformers) (2.4.7)\n",
            "Requirement already satisfied: joblib in /usr/local/lib/python3.7/dist-packages (from sacremoses->transformers) (1.0.1)\n",
            "Requirement already satisfied: click in /usr/local/lib/python3.7/dist-packages (from sacremoses->transformers) (7.1.2)\n",
            "Requirement already satisfied: six in /usr/local/lib/python3.7/dist-packages (from sacremoses->transformers) (1.15.0)\n",
            "Requirement already satisfied: certifi>=2017.4.17 in /usr/local/lib/python3.7/dist-packages (from requests->transformers) (2020.12.5)\n",
            "Requirement already satisfied: chardet<4,>=3.0.2 in /usr/local/lib/python3.7/dist-packages (from requests->transformers) (3.0.4)\n",
            "Requirement already satisfied: idna<3,>=2.5 in /usr/local/lib/python3.7/dist-packages (from requests->transformers) (2.10)\n",
            "Requirement already satisfied: urllib3!=1.25.0,!=1.25.1,<1.26,>=1.21.1 in /usr/local/lib/python3.7/dist-packages (from requests->transformers) (1.24.3)\n",
            "Installing collected packages: tokenizers, sacremoses, transformers\n",
            "Successfully installed sacremoses-0.0.45 tokenizers-0.10.2 transformers-4.5.1\n",
            "Collecting rouge\n",
            "  Downloading https://files.pythonhosted.org/packages/43/cc/e18e33be20971ff73a056ebdb023476b5a545e744e3fc22acd8c758f1e0d/rouge-1.0.0-py3-none-any.whl\n",
            "Requirement already satisfied: six in /usr/local/lib/python3.7/dist-packages (from rouge) (1.15.0)\n",
            "Installing collected packages: rouge\n",
            "Successfully installed rouge-1.0.0\n",
            "Collecting rouge-score\n",
            "  Downloading https://files.pythonhosted.org/packages/1f/56/a81022436c08b9405a5247b71635394d44fe7e1dbedc4b28c740e09c2840/rouge_score-0.0.4-py2.py3-none-any.whl\n",
            "Requirement already satisfied: numpy in /usr/local/lib/python3.7/dist-packages (from rouge-score) (1.19.5)\n",
            "Requirement already satisfied: nltk in /usr/local/lib/python3.7/dist-packages (from rouge-score) (3.2.5)\n",
            "Requirement already satisfied: six>=1.14.0 in /usr/local/lib/python3.7/dist-packages (from rouge-score) (1.15.0)\n",
            "Requirement already satisfied: absl-py in /usr/local/lib/python3.7/dist-packages (from rouge-score) (0.12.0)\n",
            "Installing collected packages: rouge-score\n",
            "Successfully installed rouge-score-0.0.4\n"
          ],
          "name": "stdout"
        }
      ]
    },
    {
      "cell_type": "markdown",
      "metadata": {
        "id": "ljM7LrYtnUS8"
      },
      "source": [
        "# 데이터 살펴보기 및 전처리"
      ]
    },
    {
      "cell_type": "code",
      "metadata": {
        "id": "r7zdqPDg4Uxf"
      },
      "source": [
        "import pandas as pd"
      ],
      "execution_count": 3,
      "outputs": []
    },
    {
      "cell_type": "code",
      "metadata": {
        "colab": {
          "base_uri": "https://localhost:8080/"
        },
        "id": "MHw6-hKc4cmQ",
        "outputId": "b535de88-b27a-485b-bf3c-9a44026b1454"
      },
      "source": [
        "from google.colab import drive\n",
        "drive.mount('/content/drive')"
      ],
      "execution_count": 4,
      "outputs": [
        {
          "output_type": "stream",
          "text": [
            "Mounted at /content/drive\n"
          ],
          "name": "stdout"
        }
      ]
    },
    {
      "cell_type": "code",
      "metadata": {
        "colab": {
          "base_uri": "https://localhost:8080/",
          "height": 419
        },
        "id": "u-1cgk4z4hod",
        "outputId": "a1cbd9a2-0ed3-4e19-9943-b7426004e36e"
      },
      "source": [
        "data = pd.read_csv('/content/drive/MyDrive/Colab Notebooks/인공지능 기술과 응용/중간고사/articles1.csv')\n",
        "data"
      ],
      "execution_count": 5,
      "outputs": [
        {
          "output_type": "execute_result",
          "data": {
            "text/html": [
              "<div>\n",
              "<style scoped>\n",
              "    .dataframe tbody tr th:only-of-type {\n",
              "        vertical-align: middle;\n",
              "    }\n",
              "\n",
              "    .dataframe tbody tr th {\n",
              "        vertical-align: top;\n",
              "    }\n",
              "\n",
              "    .dataframe thead th {\n",
              "        text-align: right;\n",
              "    }\n",
              "</style>\n",
              "<table border=\"1\" class=\"dataframe\">\n",
              "  <thead>\n",
              "    <tr style=\"text-align: right;\">\n",
              "      <th></th>\n",
              "      <th>Unnamed: 0</th>\n",
              "      <th>id</th>\n",
              "      <th>title</th>\n",
              "      <th>publication</th>\n",
              "      <th>author</th>\n",
              "      <th>date</th>\n",
              "      <th>year</th>\n",
              "      <th>month</th>\n",
              "      <th>url</th>\n",
              "      <th>content</th>\n",
              "    </tr>\n",
              "  </thead>\n",
              "  <tbody>\n",
              "    <tr>\n",
              "      <th>0</th>\n",
              "      <td>0</td>\n",
              "      <td>17283</td>\n",
              "      <td>House Republicans Fret About Winning Their Hea...</td>\n",
              "      <td>New York Times</td>\n",
              "      <td>Carl Hulse</td>\n",
              "      <td>2016-12-31</td>\n",
              "      <td>2016.0</td>\n",
              "      <td>12.0</td>\n",
              "      <td>NaN</td>\n",
              "      <td>WASHINGTON  —   Congressional Republicans have...</td>\n",
              "    </tr>\n",
              "    <tr>\n",
              "      <th>1</th>\n",
              "      <td>1</td>\n",
              "      <td>17284</td>\n",
              "      <td>Rift Between Officers and Residents as Killing...</td>\n",
              "      <td>New York Times</td>\n",
              "      <td>Benjamin Mueller and Al Baker</td>\n",
              "      <td>2017-06-19</td>\n",
              "      <td>2017.0</td>\n",
              "      <td>6.0</td>\n",
              "      <td>NaN</td>\n",
              "      <td>After the bullet shells get counted, the blood...</td>\n",
              "    </tr>\n",
              "    <tr>\n",
              "      <th>2</th>\n",
              "      <td>2</td>\n",
              "      <td>17285</td>\n",
              "      <td>Tyrus Wong, ‘Bambi’ Artist Thwarted by Racial ...</td>\n",
              "      <td>New York Times</td>\n",
              "      <td>Margalit Fox</td>\n",
              "      <td>2017-01-06</td>\n",
              "      <td>2017.0</td>\n",
              "      <td>1.0</td>\n",
              "      <td>NaN</td>\n",
              "      <td>When Walt Disney’s “Bambi” opened in 1942, cri...</td>\n",
              "    </tr>\n",
              "    <tr>\n",
              "      <th>3</th>\n",
              "      <td>3</td>\n",
              "      <td>17286</td>\n",
              "      <td>Among Deaths in 2016, a Heavy Toll in Pop Musi...</td>\n",
              "      <td>New York Times</td>\n",
              "      <td>William McDonald</td>\n",
              "      <td>2017-04-10</td>\n",
              "      <td>2017.0</td>\n",
              "      <td>4.0</td>\n",
              "      <td>NaN</td>\n",
              "      <td>Death may be the great equalizer, but it isn’t...</td>\n",
              "    </tr>\n",
              "    <tr>\n",
              "      <th>4</th>\n",
              "      <td>4</td>\n",
              "      <td>17287</td>\n",
              "      <td>Kim Jong-un Says North Korea Is Preparing to T...</td>\n",
              "      <td>New York Times</td>\n",
              "      <td>Choe Sang-Hun</td>\n",
              "      <td>2017-01-02</td>\n",
              "      <td>2017.0</td>\n",
              "      <td>1.0</td>\n",
              "      <td>NaN</td>\n",
              "      <td>SEOUL, South Korea  —   North Korea’s leader, ...</td>\n",
              "    </tr>\n",
              "    <tr>\n",
              "      <th>...</th>\n",
              "      <td>...</td>\n",
              "      <td>...</td>\n",
              "      <td>...</td>\n",
              "      <td>...</td>\n",
              "      <td>...</td>\n",
              "      <td>...</td>\n",
              "      <td>...</td>\n",
              "      <td>...</td>\n",
              "      <td>...</td>\n",
              "      <td>...</td>\n",
              "    </tr>\n",
              "    <tr>\n",
              "      <th>49995</th>\n",
              "      <td>53287</td>\n",
              "      <td>73465</td>\n",
              "      <td>Rex Tillerson Says Climate Change Is Real, but …</td>\n",
              "      <td>Atlantic</td>\n",
              "      <td>Robinson Meyer</td>\n",
              "      <td>2017-01-11</td>\n",
              "      <td>2017.0</td>\n",
              "      <td>1.0</td>\n",
              "      <td>NaN</td>\n",
              "      <td>As chairman and CEO of ExxonMobil, Rex Tillers...</td>\n",
              "    </tr>\n",
              "    <tr>\n",
              "      <th>49996</th>\n",
              "      <td>53288</td>\n",
              "      <td>73466</td>\n",
              "      <td>The Biggest Intelligence Questions Raised by t...</td>\n",
              "      <td>Atlantic</td>\n",
              "      <td>Amy Zegart</td>\n",
              "      <td>2017-01-11</td>\n",
              "      <td>2017.0</td>\n",
              "      <td>1.0</td>\n",
              "      <td>NaN</td>\n",
              "      <td>I’ve spent nearly 20 years looking at intellig...</td>\n",
              "    </tr>\n",
              "    <tr>\n",
              "      <th>49997</th>\n",
              "      <td>53289</td>\n",
              "      <td>73467</td>\n",
              "      <td>Trump Announces Plan That Does Little to Resol...</td>\n",
              "      <td>Atlantic</td>\n",
              "      <td>Jeremy Venook</td>\n",
              "      <td>2017-01-11</td>\n",
              "      <td>2017.0</td>\n",
              "      <td>1.0</td>\n",
              "      <td>NaN</td>\n",
              "      <td>Donald Trump will not be taking necessary st...</td>\n",
              "    </tr>\n",
              "    <tr>\n",
              "      <th>49998</th>\n",
              "      <td>53290</td>\n",
              "      <td>73468</td>\n",
              "      <td>Dozens of For-Profit Colleges Could Soon Close</td>\n",
              "      <td>Atlantic</td>\n",
              "      <td>Emily DeRuy</td>\n",
              "      <td>2017-01-11</td>\n",
              "      <td>2017.0</td>\n",
              "      <td>1.0</td>\n",
              "      <td>NaN</td>\n",
              "      <td>Dozens of   colleges could be forced to close ...</td>\n",
              "    </tr>\n",
              "    <tr>\n",
              "      <th>49999</th>\n",
              "      <td>53291</td>\n",
              "      <td>73469</td>\n",
              "      <td>The Milky Way’s Stolen Stars</td>\n",
              "      <td>Atlantic</td>\n",
              "      <td>Marina Koren</td>\n",
              "      <td>2017-01-11</td>\n",
              "      <td>2017.0</td>\n",
              "      <td>1.0</td>\n",
              "      <td>NaN</td>\n",
              "      <td>The force of gravity can be described using a ...</td>\n",
              "    </tr>\n",
              "  </tbody>\n",
              "</table>\n",
              "<p>50000 rows × 10 columns</p>\n",
              "</div>"
            ],
            "text/plain": [
              "       Unnamed: 0  ...                                            content\n",
              "0               0  ...  WASHINGTON  —   Congressional Republicans have...\n",
              "1               1  ...  After the bullet shells get counted, the blood...\n",
              "2               2  ...  When Walt Disney’s “Bambi” opened in 1942, cri...\n",
              "3               3  ...  Death may be the great equalizer, but it isn’t...\n",
              "4               4  ...  SEOUL, South Korea  —   North Korea’s leader, ...\n",
              "...           ...  ...                                                ...\n",
              "49995       53287  ...  As chairman and CEO of ExxonMobil, Rex Tillers...\n",
              "49996       53288  ...  I’ve spent nearly 20 years looking at intellig...\n",
              "49997       53289  ...    Donald Trump will not be taking necessary st...\n",
              "49998       53290  ...  Dozens of   colleges could be forced to close ...\n",
              "49999       53291  ...  The force of gravity can be described using a ...\n",
              "\n",
              "[50000 rows x 10 columns]"
            ]
          },
          "metadata": {
            "tags": []
          },
          "execution_count": 5
        }
      ]
    },
    {
      "cell_type": "code",
      "metadata": {
        "colab": {
          "base_uri": "https://localhost:8080/"
        },
        "id": "NDKWaaCvGc4r",
        "outputId": "03106f6b-dc8f-421d-da06-90ddb5249698"
      },
      "source": [
        "data['publication'].value_counts()"
      ],
      "execution_count": 6,
      "outputs": [
        {
          "output_type": "execute_result",
          "data": {
            "text/plain": [
              "Breitbart           23781\n",
              "CNN                 11488\n",
              "New York Times       7803\n",
              "Business Insider     6757\n",
              "Atlantic              171\n",
              "Name: publication, dtype: int64"
            ]
          },
          "metadata": {
            "tags": []
          },
          "execution_count": 6
        }
      ]
    },
    {
      "cell_type": "code",
      "metadata": {
        "colab": {
          "base_uri": "https://localhost:8080/"
        },
        "id": "xQvyliq7GxHU",
        "outputId": "1480e600-b937-4da5-d285-7f045fa6911c"
      },
      "source": [
        "data['year'].value_counts()"
      ],
      "execution_count": 7,
      "outputs": [
        {
          "output_type": "execute_result",
          "data": {
            "text/plain": [
              "2016.0    28451\n",
              "2017.0    17908\n",
              "2015.0     3326\n",
              "2013.0      212\n",
              "2014.0       76\n",
              "2012.0       26\n",
              "2011.0        1\n",
              "Name: year, dtype: int64"
            ]
          },
          "metadata": {
            "tags": []
          },
          "execution_count": 7
        }
      ]
    },
    {
      "cell_type": "code",
      "metadata": {
        "colab": {
          "base_uri": "https://localhost:8080/",
          "height": 419
        },
        "id": "t5S7mI3vSaYD",
        "outputId": "70b55f4e-a6cf-43ab-d0fc-fa0b91c6757c"
      },
      "source": [
        "# 요약할 때 길이가 너무 긴 문장들 제외.\n",
        "b = []\n",
        "for i in range(len(data)):\n",
        "  if len(data.iloc[i]['content']) <= 3000:\n",
        "    b.append(i)\n",
        "\n",
        "data = data.iloc[b]\n",
        "data"
      ],
      "execution_count": 8,
      "outputs": [
        {
          "output_type": "execute_result",
          "data": {
            "text/html": [
              "<div>\n",
              "<style scoped>\n",
              "    .dataframe tbody tr th:only-of-type {\n",
              "        vertical-align: middle;\n",
              "    }\n",
              "\n",
              "    .dataframe tbody tr th {\n",
              "        vertical-align: top;\n",
              "    }\n",
              "\n",
              "    .dataframe thead th {\n",
              "        text-align: right;\n",
              "    }\n",
              "</style>\n",
              "<table border=\"1\" class=\"dataframe\">\n",
              "  <thead>\n",
              "    <tr style=\"text-align: right;\">\n",
              "      <th></th>\n",
              "      <th>Unnamed: 0</th>\n",
              "      <th>id</th>\n",
              "      <th>title</th>\n",
              "      <th>publication</th>\n",
              "      <th>author</th>\n",
              "      <th>date</th>\n",
              "      <th>year</th>\n",
              "      <th>month</th>\n",
              "      <th>url</th>\n",
              "      <th>content</th>\n",
              "    </tr>\n",
              "  </thead>\n",
              "  <tbody>\n",
              "    <tr>\n",
              "      <th>5</th>\n",
              "      <td>5</td>\n",
              "      <td>17288</td>\n",
              "      <td>Sick With a Cold, Queen Elizabeth Misses New Y...</td>\n",
              "      <td>New York Times</td>\n",
              "      <td>Sewell Chan</td>\n",
              "      <td>2017-01-02</td>\n",
              "      <td>2017.0</td>\n",
              "      <td>1.0</td>\n",
              "      <td>NaN</td>\n",
              "      <td>LONDON  —   Queen Elizabeth II, who has been b...</td>\n",
              "    </tr>\n",
              "    <tr>\n",
              "      <th>19</th>\n",
              "      <td>19</td>\n",
              "      <td>17303</td>\n",
              "      <td>Fecal Pollution Taints Water at Melbourne’s Be...</td>\n",
              "      <td>New York Times</td>\n",
              "      <td>Brett Cole</td>\n",
              "      <td>2017-01-03</td>\n",
              "      <td>2017.0</td>\n",
              "      <td>1.0</td>\n",
              "      <td>NaN</td>\n",
              "      <td>SYDNEY, Australia  —   The annual beach pilgri...</td>\n",
              "    </tr>\n",
              "    <tr>\n",
              "      <th>33</th>\n",
              "      <td>33</td>\n",
              "      <td>17323</td>\n",
              "      <td>Airline Pilot, Believed to Be Drunk, Is Pulled...</td>\n",
              "      <td>New York Times</td>\n",
              "      <td>Ian Austen</td>\n",
              "      <td>2017-01-03</td>\n",
              "      <td>2017.0</td>\n",
              "      <td>1.0</td>\n",
              "      <td>NaN</td>\n",
              "      <td>OTTAWA  —   It was 7 a. m. and 99 passengers a...</td>\n",
              "    </tr>\n",
              "    <tr>\n",
              "      <th>47</th>\n",
              "      <td>47</td>\n",
              "      <td>17338</td>\n",
              "      <td>It’s Time to Ignore Advice About Which Stocks ...</td>\n",
              "      <td>New York Times</td>\n",
              "      <td>Damon Darlin</td>\n",
              "      <td>2017-01-09</td>\n",
              "      <td>2017.0</td>\n",
              "      <td>1.0</td>\n",
              "      <td>NaN</td>\n",
              "      <td>It’s that time of year when financial advice s...</td>\n",
              "    </tr>\n",
              "    <tr>\n",
              "      <th>52</th>\n",
              "      <td>52</td>\n",
              "      <td>17344</td>\n",
              "      <td>Chinese City Official Shoots 2 Others and Kill...</td>\n",
              "      <td>New York Times</td>\n",
              "      <td>Chris Buckley and Adam Wu</td>\n",
              "      <td>2017-01-05</td>\n",
              "      <td>2017.0</td>\n",
              "      <td>1.0</td>\n",
              "      <td>NaN</td>\n",
              "      <td>BEIJING  —   A city official in southwest Chin...</td>\n",
              "    </tr>\n",
              "    <tr>\n",
              "      <th>...</th>\n",
              "      <td>...</td>\n",
              "      <td>...</td>\n",
              "      <td>...</td>\n",
              "      <td>...</td>\n",
              "      <td>...</td>\n",
              "      <td>...</td>\n",
              "      <td>...</td>\n",
              "      <td>...</td>\n",
              "      <td>...</td>\n",
              "      <td>...</td>\n",
              "    </tr>\n",
              "    <tr>\n",
              "      <th>49905</th>\n",
              "      <td>53196</td>\n",
              "      <td>73320</td>\n",
              "      <td>The Hacking Investigation Trump Wants Instead</td>\n",
              "      <td>Atlantic</td>\n",
              "      <td>Kaveh Waddell</td>\n",
              "      <td>2017-01-06</td>\n",
              "      <td>2017.0</td>\n",
              "      <td>1.0</td>\n",
              "      <td>NaN</td>\n",
              "      <td>Donald Trump wants to get to the bottom of n...</td>\n",
              "    </tr>\n",
              "    <tr>\n",
              "      <th>49971</th>\n",
              "      <td>53263</td>\n",
              "      <td>73441</td>\n",
              "      <td>Michael Cohen: ’It Is Fake News Meant to Malig...</td>\n",
              "      <td>Atlantic</td>\n",
              "      <td>Rosie Gray</td>\n",
              "      <td>2017-01-10</td>\n",
              "      <td>2017.0</td>\n",
              "      <td>1.0</td>\n",
              "      <td>NaN</td>\n",
              "      <td>Donald Trump and his lawyer on Tuesday night d...</td>\n",
              "    </tr>\n",
              "    <tr>\n",
              "      <th>49976</th>\n",
              "      <td>53268</td>\n",
              "      <td>73446</td>\n",
              "      <td>The U.S. Supreme Court Puts North Carolina’s 2...</td>\n",
              "      <td>Atlantic</td>\n",
              "      <td>David A. Graham</td>\n",
              "      <td>2017-01-10</td>\n",
              "      <td>2017.0</td>\n",
              "      <td>1.0</td>\n",
              "      <td>NaN</td>\n",
              "      <td>DURHAM, N. C. —  The Supreme Court has a messa...</td>\n",
              "    </tr>\n",
              "    <tr>\n",
              "      <th>49983</th>\n",
              "      <td>53275</td>\n",
              "      <td>73453</td>\n",
              "      <td>‘We Have a Problem’: John Kerry on Making Poli...</td>\n",
              "      <td>Atlantic</td>\n",
              "      <td>Uri Friedman</td>\n",
              "      <td>2017-01-10</td>\n",
              "      <td>2017.0</td>\n",
              "      <td>1.0</td>\n",
              "      <td>NaN</td>\n",
              "      <td>In one of his last public appearances as U. S....</td>\n",
              "    </tr>\n",
              "    <tr>\n",
              "      <th>49999</th>\n",
              "      <td>53291</td>\n",
              "      <td>73469</td>\n",
              "      <td>The Milky Way’s Stolen Stars</td>\n",
              "      <td>Atlantic</td>\n",
              "      <td>Marina Koren</td>\n",
              "      <td>2017-01-11</td>\n",
              "      <td>2017.0</td>\n",
              "      <td>1.0</td>\n",
              "      <td>NaN</td>\n",
              "      <td>The force of gravity can be described using a ...</td>\n",
              "    </tr>\n",
              "  </tbody>\n",
              "</table>\n",
              "<p>26201 rows × 10 columns</p>\n",
              "</div>"
            ],
            "text/plain": [
              "       Unnamed: 0  ...                                            content\n",
              "5               5  ...  LONDON  —   Queen Elizabeth II, who has been b...\n",
              "19             19  ...  SYDNEY, Australia  —   The annual beach pilgri...\n",
              "33             33  ...  OTTAWA  —   It was 7 a. m. and 99 passengers a...\n",
              "47             47  ...  It’s that time of year when financial advice s...\n",
              "52             52  ...  BEIJING  —   A city official in southwest Chin...\n",
              "...           ...  ...                                                ...\n",
              "49905       53196  ...    Donald Trump wants to get to the bottom of n...\n",
              "49971       53263  ...  Donald Trump and his lawyer on Tuesday night d...\n",
              "49976       53268  ...  DURHAM, N. C. —  The Supreme Court has a messa...\n",
              "49983       53275  ...  In one of his last public appearances as U. S....\n",
              "49999       53291  ...  The force of gravity can be described using a ...\n",
              "\n",
              "[26201 rows x 10 columns]"
            ]
          },
          "metadata": {
            "tags": []
          },
          "execution_count": 8
        }
      ]
    },
    {
      "cell_type": "code",
      "metadata": {
        "id": "YPlU8vItUeRH"
      },
      "source": [
        "from sklearn.model_selection import train_test_split"
      ],
      "execution_count": 9,
      "outputs": []
    },
    {
      "cell_type": "code",
      "metadata": {
        "id": "Kc6B-936UhS-"
      },
      "source": [
        "# 개수가 너무 많기에 임의로 1%만 추출하여 263개의 데이터에 대해 요약을 진행해 볼 예정.\n",
        "train, test = train_test_split(data, test_size=0.01, random_state=42)"
      ],
      "execution_count": 10,
      "outputs": []
    },
    {
      "cell_type": "code",
      "metadata": {
        "colab": {
          "base_uri": "https://localhost:8080/",
          "height": 419
        },
        "id": "OqCQPEjXUkoz",
        "outputId": "d63347a6-017e-41a2-8664-bfd39005d1bc"
      },
      "source": [
        "test"
      ],
      "execution_count": 11,
      "outputs": [
        {
          "output_type": "execute_result",
          "data": {
            "text/html": [
              "<div>\n",
              "<style scoped>\n",
              "    .dataframe tbody tr th:only-of-type {\n",
              "        vertical-align: middle;\n",
              "    }\n",
              "\n",
              "    .dataframe tbody tr th {\n",
              "        vertical-align: top;\n",
              "    }\n",
              "\n",
              "    .dataframe thead th {\n",
              "        text-align: right;\n",
              "    }\n",
              "</style>\n",
              "<table border=\"1\" class=\"dataframe\">\n",
              "  <thead>\n",
              "    <tr style=\"text-align: right;\">\n",
              "      <th></th>\n",
              "      <th>Unnamed: 0</th>\n",
              "      <th>id</th>\n",
              "      <th>title</th>\n",
              "      <th>publication</th>\n",
              "      <th>author</th>\n",
              "      <th>date</th>\n",
              "      <th>year</th>\n",
              "      <th>month</th>\n",
              "      <th>url</th>\n",
              "      <th>content</th>\n",
              "    </tr>\n",
              "  </thead>\n",
              "  <tbody>\n",
              "    <tr>\n",
              "      <th>17198</th>\n",
              "      <td>17199</td>\n",
              "      <td>35938</td>\n",
              "      <td>First Look: Woody Allen-Miley Cyrus Series ’Cr...</td>\n",
              "      <td>Breitbart</td>\n",
              "      <td>Daniel Nussbaum</td>\n",
              "      <td>2016-09-14</td>\n",
              "      <td>2016.0</td>\n",
              "      <td>9.0</td>\n",
              "      <td>NaN</td>\n",
              "      <td>Amazon released the first trailer for its upco...</td>\n",
              "    </tr>\n",
              "    <tr>\n",
              "      <th>22470</th>\n",
              "      <td>22473</td>\n",
              "      <td>41220</td>\n",
              "      <td>Comedian Sacha Baron Cohen Suggests Trump will...</td>\n",
              "      <td>Breitbart</td>\n",
              "      <td>Kipp Jones</td>\n",
              "      <td>2016-03-04</td>\n",
              "      <td>2016.0</td>\n",
              "      <td>3.0</td>\n",
              "      <td>NaN</td>\n",
              "      <td>British satirist and comedian Sacha Baron Cohe...</td>\n",
              "    </tr>\n",
              "    <tr>\n",
              "      <th>37279</th>\n",
              "      <td>38374</td>\n",
              "      <td>57218</td>\n",
              "      <td>Southwest flight makes emergency landing</td>\n",
              "      <td>CNN</td>\n",
              "      <td>NaN</td>\n",
              "      <td>2016-08-28</td>\n",
              "      <td>2016.0</td>\n",
              "      <td>8.0</td>\n",
              "      <td>NaN</td>\n",
              "      <td>(CNN) A Southwest Airlines flight from New Or...</td>\n",
              "    </tr>\n",
              "    <tr>\n",
              "      <th>20955</th>\n",
              "      <td>20958</td>\n",
              "      <td>39704</td>\n",
              "      <td>Bolton: Trump’s Taiwan Call ’Absolutely Not a ...</td>\n",
              "      <td>Breitbart</td>\n",
              "      <td>Dan Riehl</td>\n",
              "      <td>2016-12-09</td>\n",
              "      <td>2016.0</td>\n",
              "      <td>12.0</td>\n",
              "      <td>NaN</td>\n",
              "      <td>Asked about   Donald Trump’s recent phone call...</td>\n",
              "    </tr>\n",
              "    <tr>\n",
              "      <th>35547</th>\n",
              "      <td>36329</td>\n",
              "      <td>55153</td>\n",
              "      <td>Gunmen attack Mali luxury resort, at least 2 dead</td>\n",
              "      <td>CNN</td>\n",
              "      <td>NaN</td>\n",
              "      <td>2017-06-18</td>\n",
              "      <td>2017.0</td>\n",
              "      <td>6.0</td>\n",
              "      <td>NaN</td>\n",
              "      <td>(CNN) At least two tourists were killed and 3...</td>\n",
              "    </tr>\n",
              "    <tr>\n",
              "      <th>...</th>\n",
              "      <td>...</td>\n",
              "      <td>...</td>\n",
              "      <td>...</td>\n",
              "      <td>...</td>\n",
              "      <td>...</td>\n",
              "      <td>...</td>\n",
              "      <td>...</td>\n",
              "      <td>...</td>\n",
              "      <td>...</td>\n",
              "      <td>...</td>\n",
              "    </tr>\n",
              "    <tr>\n",
              "      <th>17778</th>\n",
              "      <td>17780</td>\n",
              "      <td>36520</td>\n",
              "      <td>Watch: Rove in Heated Exchange While Defending...</td>\n",
              "      <td>Breitbart</td>\n",
              "      <td>Pam Key</td>\n",
              "      <td>2016-04-01</td>\n",
              "      <td>2016.0</td>\n",
              "      <td>4.0</td>\n",
              "      <td>NaN</td>\n",
              "      <td>Friday on Fox News Channel’s “Your World,” Rep...</td>\n",
              "    </tr>\n",
              "    <tr>\n",
              "      <th>42919</th>\n",
              "      <td>45617</td>\n",
              "      <td>64600</td>\n",
              "      <td>Forty years of self-portraits</td>\n",
              "      <td>CNN</td>\n",
              "      <td>NaN</td>\n",
              "      <td>2015-07-14</td>\n",
              "      <td>2015.0</td>\n",
              "      <td>7.0</td>\n",
              "      <td>NaN</td>\n",
              "      <td>(CNN) The excuses for a photographer to take ...</td>\n",
              "    </tr>\n",
              "    <tr>\n",
              "      <th>46159</th>\n",
              "      <td>49162</td>\n",
              "      <td>68617</td>\n",
              "      <td>We just got a new insight into a crucial crisi...</td>\n",
              "      <td>Business Insider</td>\n",
              "      <td>Matt Turner</td>\n",
              "      <td>2016-03-12</td>\n",
              "      <td>2016.0</td>\n",
              "      <td>3.0</td>\n",
              "      <td>NaN</td>\n",
              "      <td>’’ ’’ ’’ ’’ ’’ ’’ ’’ ’’ ’’ ’In short, Goldman’...</td>\n",
              "    </tr>\n",
              "    <tr>\n",
              "      <th>10608</th>\n",
              "      <td>10608</td>\n",
              "      <td>29344</td>\n",
              "      <td>Mexican Border State Cops Allegedly Beat Innoc...</td>\n",
              "      <td>Breitbart</td>\n",
              "      <td>Cartel Chronicles</td>\n",
              "      <td>2017-02-19</td>\n",
              "      <td>2017.0</td>\n",
              "      <td>2.0</td>\n",
              "      <td>NaN</td>\n",
              "      <td>PIEDRAS NEGRAS, Coahuila  —   Mexican authorit...</td>\n",
              "    </tr>\n",
              "    <tr>\n",
              "      <th>47694</th>\n",
              "      <td>50824</td>\n",
              "      <td>70564</td>\n",
              "      <td>Dropbox CEO Drew Houston just slammed Box CEO ...</td>\n",
              "      <td>Business Insider</td>\n",
              "      <td>Julie Bort</td>\n",
              "      <td>2016-07-12</td>\n",
              "      <td>2016.0</td>\n",
              "      <td>7.0</td>\n",
              "      <td>NaN</td>\n",
              "      <td>’  ’ ’   Box and Dropbox are bitter rivals wit...</td>\n",
              "    </tr>\n",
              "  </tbody>\n",
              "</table>\n",
              "<p>263 rows × 10 columns</p>\n",
              "</div>"
            ],
            "text/plain": [
              "       Unnamed: 0  ...                                            content\n",
              "17198       17199  ...  Amazon released the first trailer for its upco...\n",
              "22470       22473  ...  British satirist and comedian Sacha Baron Cohe...\n",
              "37279       38374  ...   (CNN) A Southwest Airlines flight from New Or...\n",
              "20955       20958  ...  Asked about   Donald Trump’s recent phone call...\n",
              "35547       36329  ...   (CNN) At least two tourists were killed and 3...\n",
              "...           ...  ...                                                ...\n",
              "17778       17780  ...  Friday on Fox News Channel’s “Your World,” Rep...\n",
              "42919       45617  ...   (CNN) The excuses for a photographer to take ...\n",
              "46159       49162  ...  ’’ ’’ ’’ ’’ ’’ ’’ ’’ ’’ ’’ ’In short, Goldman’...\n",
              "10608       10608  ...  PIEDRAS NEGRAS, Coahuila  —   Mexican authorit...\n",
              "47694       50824  ...  ’  ’ ’   Box and Dropbox are bitter rivals wit...\n",
              "\n",
              "[263 rows x 10 columns]"
            ]
          },
          "metadata": {
            "tags": []
          },
          "execution_count": 11
        }
      ]
    },
    {
      "cell_type": "code",
      "metadata": {
        "colab": {
          "base_uri": "https://localhost:8080/",
          "height": 419
        },
        "id": "xmC7i0Ien9Xs",
        "outputId": "610b10b5-4b74-4ade-aeae-2dee53771db2"
      },
      "source": [
        "# 제목과 기사내용만 필요.\n",
        "test = test[['title', 'content']]\n",
        "test"
      ],
      "execution_count": 12,
      "outputs": [
        {
          "output_type": "execute_result",
          "data": {
            "text/html": [
              "<div>\n",
              "<style scoped>\n",
              "    .dataframe tbody tr th:only-of-type {\n",
              "        vertical-align: middle;\n",
              "    }\n",
              "\n",
              "    .dataframe tbody tr th {\n",
              "        vertical-align: top;\n",
              "    }\n",
              "\n",
              "    .dataframe thead th {\n",
              "        text-align: right;\n",
              "    }\n",
              "</style>\n",
              "<table border=\"1\" class=\"dataframe\">\n",
              "  <thead>\n",
              "    <tr style=\"text-align: right;\">\n",
              "      <th></th>\n",
              "      <th>title</th>\n",
              "      <th>content</th>\n",
              "    </tr>\n",
              "  </thead>\n",
              "  <tbody>\n",
              "    <tr>\n",
              "      <th>17198</th>\n",
              "      <td>First Look: Woody Allen-Miley Cyrus Series ’Cr...</td>\n",
              "      <td>Amazon released the first trailer for its upco...</td>\n",
              "    </tr>\n",
              "    <tr>\n",
              "      <th>22470</th>\n",
              "      <td>Comedian Sacha Baron Cohen Suggests Trump will...</td>\n",
              "      <td>British satirist and comedian Sacha Baron Cohe...</td>\n",
              "    </tr>\n",
              "    <tr>\n",
              "      <th>37279</th>\n",
              "      <td>Southwest flight makes emergency landing</td>\n",
              "      <td>(CNN) A Southwest Airlines flight from New Or...</td>\n",
              "    </tr>\n",
              "    <tr>\n",
              "      <th>20955</th>\n",
              "      <td>Bolton: Trump’s Taiwan Call ’Absolutely Not a ...</td>\n",
              "      <td>Asked about   Donald Trump’s recent phone call...</td>\n",
              "    </tr>\n",
              "    <tr>\n",
              "      <th>35547</th>\n",
              "      <td>Gunmen attack Mali luxury resort, at least 2 dead</td>\n",
              "      <td>(CNN) At least two tourists were killed and 3...</td>\n",
              "    </tr>\n",
              "    <tr>\n",
              "      <th>...</th>\n",
              "      <td>...</td>\n",
              "      <td>...</td>\n",
              "    </tr>\n",
              "    <tr>\n",
              "      <th>17778</th>\n",
              "      <td>Watch: Rove in Heated Exchange While Defending...</td>\n",
              "      <td>Friday on Fox News Channel’s “Your World,” Rep...</td>\n",
              "    </tr>\n",
              "    <tr>\n",
              "      <th>42919</th>\n",
              "      <td>Forty years of self-portraits</td>\n",
              "      <td>(CNN) The excuses for a photographer to take ...</td>\n",
              "    </tr>\n",
              "    <tr>\n",
              "      <th>46159</th>\n",
              "      <td>We just got a new insight into a crucial crisi...</td>\n",
              "      <td>’’ ’’ ’’ ’’ ’’ ’’ ’’ ’’ ’’ ’In short, Goldman’...</td>\n",
              "    </tr>\n",
              "    <tr>\n",
              "      <th>10608</th>\n",
              "      <td>Mexican Border State Cops Allegedly Beat Innoc...</td>\n",
              "      <td>PIEDRAS NEGRAS, Coahuila  —   Mexican authorit...</td>\n",
              "    </tr>\n",
              "    <tr>\n",
              "      <th>47694</th>\n",
              "      <td>Dropbox CEO Drew Houston just slammed Box CEO ...</td>\n",
              "      <td>’  ’ ’   Box and Dropbox are bitter rivals wit...</td>\n",
              "    </tr>\n",
              "  </tbody>\n",
              "</table>\n",
              "<p>263 rows × 2 columns</p>\n",
              "</div>"
            ],
            "text/plain": [
              "                                                   title                                            content\n",
              "17198  First Look: Woody Allen-Miley Cyrus Series ’Cr...  Amazon released the first trailer for its upco...\n",
              "22470  Comedian Sacha Baron Cohen Suggests Trump will...  British satirist and comedian Sacha Baron Cohe...\n",
              "37279           Southwest flight makes emergency landing   (CNN) A Southwest Airlines flight from New Or...\n",
              "20955  Bolton: Trump’s Taiwan Call ’Absolutely Not a ...  Asked about   Donald Trump’s recent phone call...\n",
              "35547  Gunmen attack Mali luxury resort, at least 2 dead   (CNN) At least two tourists were killed and 3...\n",
              "...                                                  ...                                                ...\n",
              "17778  Watch: Rove in Heated Exchange While Defending...  Friday on Fox News Channel’s “Your World,” Rep...\n",
              "42919                      Forty years of self-portraits   (CNN) The excuses for a photographer to take ...\n",
              "46159  We just got a new insight into a crucial crisi...  ’’ ’’ ’’ ’’ ’’ ’’ ’’ ’’ ’’ ’In short, Goldman’...\n",
              "10608  Mexican Border State Cops Allegedly Beat Innoc...  PIEDRAS NEGRAS, Coahuila  —   Mexican authorit...\n",
              "47694  Dropbox CEO Drew Houston just slammed Box CEO ...  ’  ’ ’   Box and Dropbox are bitter rivals wit...\n",
              "\n",
              "[263 rows x 2 columns]"
            ]
          },
          "metadata": {
            "tags": []
          },
          "execution_count": 12
        }
      ]
    },
    {
      "cell_type": "code",
      "metadata": {
        "colab": {
          "base_uri": "https://localhost:8080/"
        },
        "id": "ZufaHkVA7ul1",
        "outputId": "85c2fc5e-0fa9-40dc-89be-47e8707a58a8"
      },
      "source": [
        "# 쓸데 없는 기호들 빼기.\n",
        "for i in range(len(test)):\n",
        "  test['title'].iloc[i] = test['title'].iloc[i].strip()\n",
        "  test['content'].iloc[i] = test['content'].iloc[i].replace('’', '').strip()"
      ],
      "execution_count": 13,
      "outputs": [
        {
          "output_type": "stream",
          "text": [
            "/usr/local/lib/python3.7/dist-packages/ipykernel_launcher.py:3: SettingWithCopyWarning: \n",
            "A value is trying to be set on a copy of a slice from a DataFrame\n",
            "\n",
            "See the caveats in the documentation: https://pandas.pydata.org/pandas-docs/stable/user_guide/indexing.html#returning-a-view-versus-a-copy\n",
            "  This is separate from the ipykernel package so we can avoid doing imports until\n",
            "/usr/local/lib/python3.7/dist-packages/ipykernel_launcher.py:4: SettingWithCopyWarning: \n",
            "A value is trying to be set on a copy of a slice from a DataFrame\n",
            "\n",
            "See the caveats in the documentation: https://pandas.pydata.org/pandas-docs/stable/user_guide/indexing.html#returning-a-view-versus-a-copy\n",
            "  after removing the cwd from sys.path.\n"
          ],
          "name": "stderr"
        }
      ]
    },
    {
      "cell_type": "code",
      "metadata": {
        "colab": {
          "base_uri": "https://localhost:8080/",
          "height": 419
        },
        "id": "wkn4lYh61cmh",
        "outputId": "6280491a-2ab3-428f-9ee4-3d804a126732"
      },
      "source": [
        "test"
      ],
      "execution_count": 14,
      "outputs": [
        {
          "output_type": "execute_result",
          "data": {
            "text/html": [
              "<div>\n",
              "<style scoped>\n",
              "    .dataframe tbody tr th:only-of-type {\n",
              "        vertical-align: middle;\n",
              "    }\n",
              "\n",
              "    .dataframe tbody tr th {\n",
              "        vertical-align: top;\n",
              "    }\n",
              "\n",
              "    .dataframe thead th {\n",
              "        text-align: right;\n",
              "    }\n",
              "</style>\n",
              "<table border=\"1\" class=\"dataframe\">\n",
              "  <thead>\n",
              "    <tr style=\"text-align: right;\">\n",
              "      <th></th>\n",
              "      <th>title</th>\n",
              "      <th>content</th>\n",
              "    </tr>\n",
              "  </thead>\n",
              "  <tbody>\n",
              "    <tr>\n",
              "      <th>17198</th>\n",
              "      <td>First Look: Woody Allen-Miley Cyrus Series ’Cr...</td>\n",
              "      <td>Amazon released the first trailer for its upco...</td>\n",
              "    </tr>\n",
              "    <tr>\n",
              "      <th>22470</th>\n",
              "      <td>Comedian Sacha Baron Cohen Suggests Trump will...</td>\n",
              "      <td>British satirist and comedian Sacha Baron Cohe...</td>\n",
              "    </tr>\n",
              "    <tr>\n",
              "      <th>37279</th>\n",
              "      <td>Southwest flight makes emergency landing</td>\n",
              "      <td>(CNN) A Southwest Airlines flight from New Orl...</td>\n",
              "    </tr>\n",
              "    <tr>\n",
              "      <th>20955</th>\n",
              "      <td>Bolton: Trump’s Taiwan Call ’Absolutely Not a ...</td>\n",
              "      <td>Asked about   Donald Trumps recent phone call ...</td>\n",
              "    </tr>\n",
              "    <tr>\n",
              "      <th>35547</th>\n",
              "      <td>Gunmen attack Mali luxury resort, at least 2 dead</td>\n",
              "      <td>(CNN) At least two tourists were killed and 32...</td>\n",
              "    </tr>\n",
              "    <tr>\n",
              "      <th>...</th>\n",
              "      <td>...</td>\n",
              "      <td>...</td>\n",
              "    </tr>\n",
              "    <tr>\n",
              "      <th>17778</th>\n",
              "      <td>Watch: Rove in Heated Exchange While Defending...</td>\n",
              "      <td>Friday on Fox News Channels “Your World,” Repu...</td>\n",
              "    </tr>\n",
              "    <tr>\n",
              "      <th>42919</th>\n",
              "      <td>Forty years of self-portraits</td>\n",
              "      <td>(CNN) The excuses for a photographer to take a...</td>\n",
              "    </tr>\n",
              "    <tr>\n",
              "      <th>46159</th>\n",
              "      <td>We just got a new insight into a crucial crisi...</td>\n",
              "      <td>In short, Goldmans early collateral calls kept...</td>\n",
              "    </tr>\n",
              "    <tr>\n",
              "      <th>10608</th>\n",
              "      <td>Mexican Border State Cops Allegedly Beat Innoc...</td>\n",
              "      <td>PIEDRAS NEGRAS, Coahuila  —   Mexican authorit...</td>\n",
              "    </tr>\n",
              "    <tr>\n",
              "      <th>47694</th>\n",
              "      <td>Dropbox CEO Drew Houston just slammed Box CEO ...</td>\n",
              "      <td>Box and Dropbox are bitter rivals with a histo...</td>\n",
              "    </tr>\n",
              "  </tbody>\n",
              "</table>\n",
              "<p>263 rows × 2 columns</p>\n",
              "</div>"
            ],
            "text/plain": [
              "                                                   title                                            content\n",
              "17198  First Look: Woody Allen-Miley Cyrus Series ’Cr...  Amazon released the first trailer for its upco...\n",
              "22470  Comedian Sacha Baron Cohen Suggests Trump will...  British satirist and comedian Sacha Baron Cohe...\n",
              "37279           Southwest flight makes emergency landing  (CNN) A Southwest Airlines flight from New Orl...\n",
              "20955  Bolton: Trump’s Taiwan Call ’Absolutely Not a ...  Asked about   Donald Trumps recent phone call ...\n",
              "35547  Gunmen attack Mali luxury resort, at least 2 dead  (CNN) At least two tourists were killed and 32...\n",
              "...                                                  ...                                                ...\n",
              "17778  Watch: Rove in Heated Exchange While Defending...  Friday on Fox News Channels “Your World,” Repu...\n",
              "42919                      Forty years of self-portraits  (CNN) The excuses for a photographer to take a...\n",
              "46159  We just got a new insight into a crucial crisi...  In short, Goldmans early collateral calls kept...\n",
              "10608  Mexican Border State Cops Allegedly Beat Innoc...  PIEDRAS NEGRAS, Coahuila  —   Mexican authorit...\n",
              "47694  Dropbox CEO Drew Houston just slammed Box CEO ...  Box and Dropbox are bitter rivals with a histo...\n",
              "\n",
              "[263 rows x 2 columns]"
            ]
          },
          "metadata": {
            "tags": []
          },
          "execution_count": 14
        }
      ]
    },
    {
      "cell_type": "markdown",
      "metadata": {
        "id": "opaSrkTLyk-r"
      },
      "source": [
        "# 모형 및 학습"
      ]
    },
    {
      "cell_type": "markdown",
      "metadata": {
        "id": "yfj4u_OEa0yv"
      },
      "source": [
        "### pipeline summary"
      ]
    },
    {
      "cell_type": "code",
      "metadata": {
        "id": "G_Fj5O0B9clo"
      },
      "source": [
        "from transformers import pipeline"
      ],
      "execution_count": 15,
      "outputs": []
    },
    {
      "cell_type": "code",
      "metadata": {
        "colab": {
          "base_uri": "https://localhost:8080/",
          "height": 267,
          "referenced_widgets": [
            "0e07ea54623f4461873c25c78a796049",
            "80dd6514b59e4c48b165ad105d643b2a",
            "c6e5dbc48f3a4286b6db624f775ddf4f",
            "b35e79e1162a423c897ddd6f590cf540",
            "be894203c9054920906988bdfcadfbbb",
            "c565b56842d742a0a3afd456650baffa",
            "c2552e7a41444aab830147cd8b1357e3",
            "52658c2fd10e4429a74d94ea91f973cb",
            "68d17ee276b54d799a3e22043fef59ee",
            "24523004d6994f4a889f7f3541808feb",
            "ea06ae9895e94a28badbeb9dd52d0a27",
            "97c7390da9e242a2a9db91080f0dad83",
            "9854efca84f64c37999628afef49ae10",
            "868be607014a48cdbcf28145afd6a8b9",
            "f9bcaaa1f60145069272081cac95c4ff",
            "151318699df94510b8aafe70559e7507",
            "df8f6b4de3be4329b64b2b062a23b9b9",
            "2b78f4351da042808168006d47e3f063",
            "23029a23e0824383bca9319733037fb7",
            "9823c209192646a89f0720edb2d078e5",
            "56d32075337e4a8d8c5e66d6900c5005",
            "108d0c0b96654318ab01ab3acdf76e84",
            "05838c0e0cc342aa9f21f90713f0bc64",
            "6c30282d2cb3441aa767aa0b19eed5be",
            "39acac06b8bd4858a8891ff49895b044",
            "57cad67216c14137a0a07bbc4e5aded8",
            "da540f8dbdc54507a4593bf552162641",
            "a09fb3cdaaf34c7891180820aacdd4fa",
            "20f0d37d243745cfa55c988381354616",
            "5bf85255b6dc4614a6efa56c950ec9b5",
            "efd494b0d5a84d21aa6aa488a0247e48",
            "6c7448f93f5c4537b23002c3f5608a0a",
            "5a6a43763660493db113d0849b0b2879",
            "cf4235b1111142f0ae5a8dc25a2279c9",
            "c32c1afaa1524f4685030459fbd1064b",
            "3239cedc6f234a18a176a56ec63e3aad",
            "84606436e79b479a97c2dd1c16a59d4b",
            "fcff53a5ed324f5c8c62f701919d44ab",
            "7f7b8630a7b4410ab2e3fb1498c2be66",
            "cd66cd049f444dcd8975a3c5aac4513f"
          ]
        },
        "id": "4ms3tcor9ijL",
        "outputId": "886f4f5c-6bba-4cfd-ec71-007d37418a6c"
      },
      "source": [
        "summ = pipeline(\"summarization\")"
      ],
      "execution_count": 16,
      "outputs": [
        {
          "output_type": "display_data",
          "data": {
            "application/vnd.jupyter.widget-view+json": {
              "model_id": "0e07ea54623f4461873c25c78a796049",
              "version_minor": 0,
              "version_major": 2
            },
            "text/plain": [
              "HBox(children=(FloatProgress(value=0.0, description='Downloading', max=1649.0, style=ProgressStyle(description…"
            ]
          },
          "metadata": {
            "tags": []
          }
        },
        {
          "output_type": "stream",
          "text": [
            "\n"
          ],
          "name": "stdout"
        },
        {
          "output_type": "display_data",
          "data": {
            "application/vnd.jupyter.widget-view+json": {
              "model_id": "68d17ee276b54d799a3e22043fef59ee",
              "version_minor": 0,
              "version_major": 2
            },
            "text/plain": [
              "HBox(children=(FloatProgress(value=0.0, description='Downloading', max=1222317369.0, style=ProgressStyle(descr…"
            ]
          },
          "metadata": {
            "tags": []
          }
        },
        {
          "output_type": "stream",
          "text": [
            "\n"
          ],
          "name": "stdout"
        },
        {
          "output_type": "display_data",
          "data": {
            "application/vnd.jupyter.widget-view+json": {
              "model_id": "df8f6b4de3be4329b64b2b062a23b9b9",
              "version_minor": 0,
              "version_major": 2
            },
            "text/plain": [
              "HBox(children=(FloatProgress(value=0.0, description='Downloading', max=898822.0, style=ProgressStyle(descripti…"
            ]
          },
          "metadata": {
            "tags": []
          }
        },
        {
          "output_type": "stream",
          "text": [
            "\n"
          ],
          "name": "stdout"
        },
        {
          "output_type": "display_data",
          "data": {
            "application/vnd.jupyter.widget-view+json": {
              "model_id": "39acac06b8bd4858a8891ff49895b044",
              "version_minor": 0,
              "version_major": 2
            },
            "text/plain": [
              "HBox(children=(FloatProgress(value=0.0, description='Downloading', max=456318.0, style=ProgressStyle(descripti…"
            ]
          },
          "metadata": {
            "tags": []
          }
        },
        {
          "output_type": "stream",
          "text": [
            "\n"
          ],
          "name": "stdout"
        },
        {
          "output_type": "display_data",
          "data": {
            "application/vnd.jupyter.widget-view+json": {
              "model_id": "5a6a43763660493db113d0849b0b2879",
              "version_minor": 0,
              "version_major": 2
            },
            "text/plain": [
              "HBox(children=(FloatProgress(value=0.0, description='Downloading', max=26.0, style=ProgressStyle(description_w…"
            ]
          },
          "metadata": {
            "tags": []
          }
        },
        {
          "output_type": "stream",
          "text": [
            "\n"
          ],
          "name": "stdout"
        }
      ]
    },
    {
      "cell_type": "code",
      "metadata": {
        "colab": {
          "base_uri": "https://localhost:8080/"
        },
        "id": "ex4WDrd7B_rf",
        "outputId": "7a16d7ae-c9cd-42ae-bf8a-613d54c7e223"
      },
      "source": [
        "# 제목보다는 길고, 간단하게 요약하기 위해 최소, 최대 길이의 parameter을 줌.\n",
        "test['summary'] = 0\n",
        "for i in range(len(test)):\n",
        "  test['summary'].iloc[i] = summ(test.iloc[i]['content'], min_length=5, max_length=30)[0]['summary_text'].strip()"
      ],
      "execution_count": 17,
      "outputs": [
        {
          "output_type": "stream",
          "text": [
            "/usr/local/lib/python3.7/dist-packages/ipykernel_launcher.py:2: SettingWithCopyWarning: \n",
            "A value is trying to be set on a copy of a slice from a DataFrame.\n",
            "Try using .loc[row_indexer,col_indexer] = value instead\n",
            "\n",
            "See the caveats in the documentation: https://pandas.pydata.org/pandas-docs/stable/user_guide/indexing.html#returning-a-view-versus-a-copy\n",
            "  \n",
            "/usr/local/lib/python3.7/dist-packages/pandas/core/indexing.py:670: SettingWithCopyWarning: \n",
            "A value is trying to be set on a copy of a slice from a DataFrame\n",
            "\n",
            "See the caveats in the documentation: https://pandas.pydata.org/pandas-docs/stable/user_guide/indexing.html#returning-a-view-versus-a-copy\n",
            "  iloc._setitem_with_indexer(indexer, value)\n",
            "/usr/local/lib/python3.7/dist-packages/ipykernel_launcher.py:4: SettingWithCopyWarning: \n",
            "A value is trying to be set on a copy of a slice from a DataFrame\n",
            "\n",
            "See the caveats in the documentation: https://pandas.pydata.org/pandas-docs/stable/user_guide/indexing.html#returning-a-view-versus-a-copy\n",
            "  after removing the cwd from sys.path.\n",
            "Your max_length is set to 30, but you input_length is only 24. You might consider decreasing max_length manually, e.g. summarizer('...', max_length=50)\n",
            "Your max_length is set to 30, but you input_length is only 27. You might consider decreasing max_length manually, e.g. summarizer('...', max_length=50)\n",
            "Your max_length is set to 30, but you input_length is only 16. You might consider decreasing max_length manually, e.g. summarizer('...', max_length=50)\n",
            "Your max_length is set to 30, but you input_length is only 10. You might consider decreasing max_length manually, e.g. summarizer('...', max_length=50)\n"
          ],
          "name": "stderr"
        }
      ]
    },
    {
      "cell_type": "code",
      "metadata": {
        "colab": {
          "base_uri": "https://localhost:8080/",
          "height": 419
        },
        "id": "36W8Lbs2Aj6p",
        "outputId": "c75049be-cd4b-490e-d7f7-904312560600"
      },
      "source": [
        "test"
      ],
      "execution_count": 18,
      "outputs": [
        {
          "output_type": "execute_result",
          "data": {
            "text/html": [
              "<div>\n",
              "<style scoped>\n",
              "    .dataframe tbody tr th:only-of-type {\n",
              "        vertical-align: middle;\n",
              "    }\n",
              "\n",
              "    .dataframe tbody tr th {\n",
              "        vertical-align: top;\n",
              "    }\n",
              "\n",
              "    .dataframe thead th {\n",
              "        text-align: right;\n",
              "    }\n",
              "</style>\n",
              "<table border=\"1\" class=\"dataframe\">\n",
              "  <thead>\n",
              "    <tr style=\"text-align: right;\">\n",
              "      <th></th>\n",
              "      <th>title</th>\n",
              "      <th>content</th>\n",
              "      <th>summary</th>\n",
              "    </tr>\n",
              "  </thead>\n",
              "  <tbody>\n",
              "    <tr>\n",
              "      <th>17198</th>\n",
              "      <td>First Look: Woody Allen-Miley Cyrus Series ’Cr...</td>\n",
              "      <td>Amazon released the first trailer for its upco...</td>\n",
              "      <td>Amazon has released the first trailer for its ...</td>\n",
              "    </tr>\n",
              "    <tr>\n",
              "      <th>22470</th>\n",
              "      <td>Comedian Sacha Baron Cohen Suggests Trump will...</td>\n",
              "      <td>British satirist and comedian Sacha Baron Cohe...</td>\n",
              "      <td>Sacha Baron Cohen mocked Donald Trump at the U...</td>\n",
              "    </tr>\n",
              "    <tr>\n",
              "      <th>37279</th>\n",
              "      <td>Southwest flight makes emergency landing</td>\n",
              "      <td>(CNN) A Southwest Airlines flight from New Orl...</td>\n",
              "      <td>A woman who was on the plane with her husband ...</td>\n",
              "    </tr>\n",
              "    <tr>\n",
              "      <th>20955</th>\n",
              "      <td>Bolton: Trump’s Taiwan Call ’Absolutely Not a ...</td>\n",
              "      <td>Asked about   Donald Trumps recent phone call ...</td>\n",
              "      <td>Donald Trump's recent phone call with Taiwan c...</td>\n",
              "    </tr>\n",
              "    <tr>\n",
              "      <th>35547</th>\n",
              "      <td>Gunmen attack Mali luxury resort, at least 2 dead</td>\n",
              "      <td>(CNN) At least two tourists were killed and 32...</td>\n",
              "      <td>Two of the three attackers were also killed, a...</td>\n",
              "    </tr>\n",
              "    <tr>\n",
              "      <th>...</th>\n",
              "      <td>...</td>\n",
              "      <td>...</td>\n",
              "      <td>...</td>\n",
              "    </tr>\n",
              "    <tr>\n",
              "      <th>17778</th>\n",
              "      <td>Watch: Rove in Heated Exchange While Defending...</td>\n",
              "      <td>Friday on Fox News Channels “Your World,” Repu...</td>\n",
              "      <td>Karl Rove got into a heated back and forth wit...</td>\n",
              "    </tr>\n",
              "    <tr>\n",
              "      <th>42919</th>\n",
              "      <td>Forty years of self-portraits</td>\n",
              "      <td>(CNN) The excuses for a photographer to take a...</td>\n",
              "      <td>Abby Robinsons collection ”AutoWorks” challeng...</td>\n",
              "    </tr>\n",
              "    <tr>\n",
              "      <th>46159</th>\n",
              "      <td>We just got a new insight into a crucial crisi...</td>\n",
              "      <td>In short, Goldmans early collateral calls kept...</td>\n",
              "      <td>Cassano thinks that ”no one could get a handle...</td>\n",
              "    </tr>\n",
              "    <tr>\n",
              "      <th>10608</th>\n",
              "      <td>Mexican Border State Cops Allegedly Beat Innoc...</td>\n",
              "      <td>PIEDRAS NEGRAS, Coahuila  —   Mexican authorit...</td>\n",
              "      <td>Mexican authorities are investigating some mem...</td>\n",
              "    </tr>\n",
              "    <tr>\n",
              "      <th>47694</th>\n",
              "      <td>Dropbox CEO Drew Houston just slammed Box CEO ...</td>\n",
              "      <td>Box and Dropbox are bitter rivals with a histo...</td>\n",
              "      <td>Box and Dropbox are bitter rivals with a histo...</td>\n",
              "    </tr>\n",
              "  </tbody>\n",
              "</table>\n",
              "<p>263 rows × 3 columns</p>\n",
              "</div>"
            ],
            "text/plain": [
              "                                                   title  ...                                            summary\n",
              "17198  First Look: Woody Allen-Miley Cyrus Series ’Cr...  ...  Amazon has released the first trailer for its ...\n",
              "22470  Comedian Sacha Baron Cohen Suggests Trump will...  ...  Sacha Baron Cohen mocked Donald Trump at the U...\n",
              "37279           Southwest flight makes emergency landing  ...  A woman who was on the plane with her husband ...\n",
              "20955  Bolton: Trump’s Taiwan Call ’Absolutely Not a ...  ...  Donald Trump's recent phone call with Taiwan c...\n",
              "35547  Gunmen attack Mali luxury resort, at least 2 dead  ...  Two of the three attackers were also killed, a...\n",
              "...                                                  ...  ...                                                ...\n",
              "17778  Watch: Rove in Heated Exchange While Defending...  ...  Karl Rove got into a heated back and forth wit...\n",
              "42919                      Forty years of self-portraits  ...  Abby Robinsons collection ”AutoWorks” challeng...\n",
              "46159  We just got a new insight into a crucial crisi...  ...  Cassano thinks that ”no one could get a handle...\n",
              "10608  Mexican Border State Cops Allegedly Beat Innoc...  ...  Mexican authorities are investigating some mem...\n",
              "47694  Dropbox CEO Drew Houston just slammed Box CEO ...  ...  Box and Dropbox are bitter rivals with a histo...\n",
              "\n",
              "[263 rows x 3 columns]"
            ]
          },
          "metadata": {
            "tags": []
          },
          "execution_count": 18
        }
      ]
    },
    {
      "cell_type": "markdown",
      "metadata": {
        "id": "UikZJmITa3IV"
      },
      "source": [
        "### T5 transformer summary"
      ]
    },
    {
      "cell_type": "code",
      "metadata": {
        "colab": {
          "base_uri": "https://localhost:8080/",
          "height": 273,
          "referenced_widgets": [
            "61cdbf86d9284b49ad0c547dbc460ff4",
            "4b0bdd50db5c4400b7d62227d6ea44d3",
            "eba7cdc8818046f9a4f1218844d5261e",
            "fa0e1c86905e4375885e3499d74ff82a",
            "0e2e136159d649bb962ee75a6fd9cc14",
            "9fc4130567924bf4835499185cc0ec5d",
            "2d9390e0883d4bd68850294cfa549ff9",
            "4a362b3a649a4b91b4315852412afc2c",
            "adfbbb833abc4b8682a581f7f4789306",
            "b3de07d44de04306a9c5baa60be03a81",
            "79bd495e12184f8390a15476c98d1d7b",
            "cbef282ad6ad4841b7e64e3c1856404b",
            "e3cc41c8bc684e0a8d1202db9d276a9e",
            "5678ebb286034ee9b5f55d0aa2f2b379",
            "e8b8e6e628a7452587d5991e4081c7be",
            "6da288d0d1f944f197f09e5c4a36adb3",
            "8cde885df26a4215b85ab9fed7304ab8",
            "1e40b14c535b4a709f4d90b02d6c8ae4",
            "1015a43c6c3a4952bc444f60ae0a38e1",
            "8d06826906434e2eb6de28da9c1ca54e",
            "1be16c44a1384f53ac6c996867477508",
            "f008f3a099324f3a98aad8b17f60cf3e",
            "b1805a3d1ba84931b6a5b10da08b4889",
            "edefad32efb44117bf221746f756a967",
            "1c875d48bc134614a061be01bb9d551a",
            "7e3739a8e3e241299e97c001686185b4",
            "414b681884564228afabaadb57fbdc5b",
            "4e7442bb5c5b4cd893b8832f64ea2e1c",
            "5ce9cc3e74454ed081a19707a1fa9c8d",
            "549dcd5ca3954e2986b1be94be08a951",
            "e8271f30dae44d888cc122f3216c0d90",
            "6b90a7b608fc4904bdda2b01fe51d324"
          ]
        },
        "id": "fkAsmCqid8t_",
        "outputId": "03074f4d-fa88-4f06-efdd-82a12e932b49"
      },
      "source": [
        "from transformers import AutoModelWithLMHead, AutoTokenizer\n",
        "\n",
        "model = AutoModelWithLMHead.from_pretrained(\"t5-base\")\n",
        "tokenizer = AutoTokenizer.from_pretrained(\"t5-base\")"
      ],
      "execution_count": 19,
      "outputs": [
        {
          "output_type": "stream",
          "text": [
            "/usr/local/lib/python3.7/dist-packages/transformers/models/auto/modeling_auto.py:762: FutureWarning: The class `AutoModelWithLMHead` is deprecated and will be removed in a future version. Please use `AutoModelForCausalLM` for causal language models, `AutoModelForMaskedLM` for masked language models and `AutoModelForSeq2SeqLM` for encoder-decoder models.\n",
            "  FutureWarning,\n"
          ],
          "name": "stderr"
        },
        {
          "output_type": "display_data",
          "data": {
            "application/vnd.jupyter.widget-view+json": {
              "model_id": "61cdbf86d9284b49ad0c547dbc460ff4",
              "version_minor": 0,
              "version_major": 2
            },
            "text/plain": [
              "HBox(children=(FloatProgress(value=0.0, description='Downloading', max=1199.0, style=ProgressStyle(description…"
            ]
          },
          "metadata": {
            "tags": []
          }
        },
        {
          "output_type": "stream",
          "text": [
            "\n"
          ],
          "name": "stdout"
        },
        {
          "output_type": "display_data",
          "data": {
            "application/vnd.jupyter.widget-view+json": {
              "model_id": "adfbbb833abc4b8682a581f7f4789306",
              "version_minor": 0,
              "version_major": 2
            },
            "text/plain": [
              "HBox(children=(FloatProgress(value=0.0, description='Downloading', max=891691430.0, style=ProgressStyle(descri…"
            ]
          },
          "metadata": {
            "tags": []
          }
        },
        {
          "output_type": "stream",
          "text": [
            "\n"
          ],
          "name": "stdout"
        },
        {
          "output_type": "display_data",
          "data": {
            "application/vnd.jupyter.widget-view+json": {
              "model_id": "8cde885df26a4215b85ab9fed7304ab8",
              "version_minor": 0,
              "version_major": 2
            },
            "text/plain": [
              "HBox(children=(FloatProgress(value=0.0, description='Downloading', max=791656.0, style=ProgressStyle(descripti…"
            ]
          },
          "metadata": {
            "tags": []
          }
        },
        {
          "output_type": "stream",
          "text": [
            "\n"
          ],
          "name": "stdout"
        },
        {
          "output_type": "display_data",
          "data": {
            "application/vnd.jupyter.widget-view+json": {
              "model_id": "1c875d48bc134614a061be01bb9d551a",
              "version_minor": 0,
              "version_major": 2
            },
            "text/plain": [
              "HBox(children=(FloatProgress(value=0.0, description='Downloading', max=1389353.0, style=ProgressStyle(descript…"
            ]
          },
          "metadata": {
            "tags": []
          }
        },
        {
          "output_type": "stream",
          "text": [
            "\n"
          ],
          "name": "stdout"
        }
      ]
    },
    {
      "cell_type": "code",
      "metadata": {
        "colab": {
          "base_uri": "https://localhost:8080/"
        },
        "id": "d6Yit4lqk2GL",
        "outputId": "d99a06fa-fdd8-4daa-da1c-f4a84391b0fb"
      },
      "source": [
        "test['summary_T5'] = 0\n",
        "for i in range(len(test)):\n",
        "  inputs = tokenizer.encode(\"summarize: \" + test.iloc[i]['content'], return_tensors=\"pt\", max_length=512)\n",
        "  outputs = model.generate(inputs, max_length=30, min_length=5, length_penalty=2.0, num_beams=4, early_stopping=True)\n",
        "  test['summary_T5'].iloc[i] = tokenizer.decode(outputs[0]).replace('<pad>', '').strip()"
      ],
      "execution_count": 20,
      "outputs": [
        {
          "output_type": "stream",
          "text": [
            "/usr/local/lib/python3.7/dist-packages/ipykernel_launcher.py:1: SettingWithCopyWarning: \n",
            "A value is trying to be set on a copy of a slice from a DataFrame.\n",
            "Try using .loc[row_indexer,col_indexer] = value instead\n",
            "\n",
            "See the caveats in the documentation: https://pandas.pydata.org/pandas-docs/stable/user_guide/indexing.html#returning-a-view-versus-a-copy\n",
            "  \"\"\"Entry point for launching an IPython kernel.\n",
            "Truncation was not explicitly activated but `max_length` is provided a specific value, please use `truncation=True` to explicitly truncate examples to max length. Defaulting to 'longest_first' truncation strategy. If you encode pairs of sequences (GLUE-style) with the tokenizer you can select this strategy more precisely by providing a specific strategy to `truncation`.\n",
            "/usr/local/lib/python3.7/dist-packages/pandas/core/indexing.py:670: SettingWithCopyWarning: \n",
            "A value is trying to be set on a copy of a slice from a DataFrame\n",
            "\n",
            "See the caveats in the documentation: https://pandas.pydata.org/pandas-docs/stable/user_guide/indexing.html#returning-a-view-versus-a-copy\n",
            "  iloc._setitem_with_indexer(indexer, value)\n",
            "/usr/local/lib/python3.7/dist-packages/ipykernel_launcher.py:5: SettingWithCopyWarning: \n",
            "A value is trying to be set on a copy of a slice from a DataFrame\n",
            "\n",
            "See the caveats in the documentation: https://pandas.pydata.org/pandas-docs/stable/user_guide/indexing.html#returning-a-view-versus-a-copy\n",
            "  \"\"\"\n"
          ],
          "name": "stderr"
        }
      ]
    },
    {
      "cell_type": "code",
      "metadata": {
        "colab": {
          "base_uri": "https://localhost:8080/",
          "height": 419
        },
        "id": "mCwSKnQagrtR",
        "outputId": "c2a430df-4d05-40c4-84da-72d6c00bf891"
      },
      "source": [
        "test"
      ],
      "execution_count": 21,
      "outputs": [
        {
          "output_type": "execute_result",
          "data": {
            "text/html": [
              "<div>\n",
              "<style scoped>\n",
              "    .dataframe tbody tr th:only-of-type {\n",
              "        vertical-align: middle;\n",
              "    }\n",
              "\n",
              "    .dataframe tbody tr th {\n",
              "        vertical-align: top;\n",
              "    }\n",
              "\n",
              "    .dataframe thead th {\n",
              "        text-align: right;\n",
              "    }\n",
              "</style>\n",
              "<table border=\"1\" class=\"dataframe\">\n",
              "  <thead>\n",
              "    <tr style=\"text-align: right;\">\n",
              "      <th></th>\n",
              "      <th>title</th>\n",
              "      <th>content</th>\n",
              "      <th>summary</th>\n",
              "      <th>summary_T5</th>\n",
              "    </tr>\n",
              "  </thead>\n",
              "  <tbody>\n",
              "    <tr>\n",
              "      <th>17198</th>\n",
              "      <td>First Look: Woody Allen-Miley Cyrus Series ’Cr...</td>\n",
              "      <td>Amazon released the first trailer for its upco...</td>\n",
              "      <td>Amazon has released the first trailer for its ...</td>\n",
              "      <td>the series begins streaming on amazon prime on...</td>\n",
              "    </tr>\n",
              "    <tr>\n",
              "      <th>22470</th>\n",
              "      <td>Comedian Sacha Baron Cohen Suggests Trump will...</td>\n",
              "      <td>British satirist and comedian Sacha Baron Cohe...</td>\n",
              "      <td>Sacha Baron Cohen mocked Donald Trump at the U...</td>\n",
              "      <td>satirist and comedian Sacha Baron Cohen mocked...</td>\n",
              "    </tr>\n",
              "    <tr>\n",
              "      <th>37279</th>\n",
              "      <td>Southwest flight makes emergency landing</td>\n",
              "      <td>(CNN) A Southwest Airlines flight from New Orl...</td>\n",
              "      <td>A woman who was on the plane with her husband ...</td>\n",
              "      <td>a flight from new orleans to florida was force...</td>\n",
              "    </tr>\n",
              "    <tr>\n",
              "      <th>20955</th>\n",
              "      <td>Bolton: Trump’s Taiwan Call ’Absolutely Not a ...</td>\n",
              "      <td>Asked about   Donald Trumps recent phone call ...</td>\n",
              "      <td>Donald Trump's recent phone call with Taiwan c...</td>\n",
              "      <td>former u.n. ambassador says he thought he was ...</td>\n",
              "    </tr>\n",
              "    <tr>\n",
              "      <th>35547</th>\n",
              "      <td>Gunmen attack Mali luxury resort, at least 2 dead</td>\n",
              "      <td>(CNN) At least two tourists were killed and 32...</td>\n",
              "      <td>Two of the three attackers were also killed, a...</td>\n",
              "      <td>two tourists killed, 32 others rescued after g...</td>\n",
              "    </tr>\n",
              "    <tr>\n",
              "      <th>...</th>\n",
              "      <td>...</td>\n",
              "      <td>...</td>\n",
              "      <td>...</td>\n",
              "      <td>...</td>\n",
              "    </tr>\n",
              "    <tr>\n",
              "      <th>17778</th>\n",
              "      <td>Watch: Rove in Heated Exchange While Defending...</td>\n",
              "      <td>Friday on Fox News Channels “Your World,” Repu...</td>\n",
              "      <td>Karl Rove got into a heated back and forth wit...</td>\n",
              "      <td>a guest host attempted to blame Rove for the l...</td>\n",
              "    </tr>\n",
              "    <tr>\n",
              "      <th>42919</th>\n",
              "      <td>Forty years of self-portraits</td>\n",
              "      <td>(CNN) The excuses for a photographer to take a...</td>\n",
              "      <td>Abby Robinsons collection ”AutoWorks” challeng...</td>\n",
              "      <td>abby Robinson's collection 'AutoWorks' is not ...</td>\n",
              "    </tr>\n",
              "    <tr>\n",
              "      <th>46159</th>\n",
              "      <td>We just got a new insight into a crucial crisi...</td>\n",
              "      <td>In short, Goldmans early collateral calls kept...</td>\n",
              "      <td>Cassano thinks that ”no one could get a handle...</td>\n",
              "      <td>Cassano: early collateral calls kept changing,...</td>\n",
              "    </tr>\n",
              "    <tr>\n",
              "      <th>10608</th>\n",
              "      <td>Mexican Border State Cops Allegedly Beat Innoc...</td>\n",
              "      <td>PIEDRAS NEGRAS, Coahuila  —   Mexican authorit...</td>\n",
              "      <td>Mexican authorities are investigating some mem...</td>\n",
              "      <td>authorities are investigating members of the F...</td>\n",
              "    </tr>\n",
              "    <tr>\n",
              "      <th>47694</th>\n",
              "      <td>Dropbox CEO Drew Houston just slammed Box CEO ...</td>\n",
              "      <td>Box and Dropbox are bitter rivals with a histo...</td>\n",
              "      <td>Box and Dropbox are bitter rivals with a histo...</td>\n",
              "      <td>box cofounder and CEO Aaron Levie has a histor...</td>\n",
              "    </tr>\n",
              "  </tbody>\n",
              "</table>\n",
              "<p>263 rows × 4 columns</p>\n",
              "</div>"
            ],
            "text/plain": [
              "                                                   title  ...                                         summary_T5\n",
              "17198  First Look: Woody Allen-Miley Cyrus Series ’Cr...  ...  the series begins streaming on amazon prime on...\n",
              "22470  Comedian Sacha Baron Cohen Suggests Trump will...  ...  satirist and comedian Sacha Baron Cohen mocked...\n",
              "37279           Southwest flight makes emergency landing  ...  a flight from new orleans to florida was force...\n",
              "20955  Bolton: Trump’s Taiwan Call ’Absolutely Not a ...  ...  former u.n. ambassador says he thought he was ...\n",
              "35547  Gunmen attack Mali luxury resort, at least 2 dead  ...  two tourists killed, 32 others rescued after g...\n",
              "...                                                  ...  ...                                                ...\n",
              "17778  Watch: Rove in Heated Exchange While Defending...  ...  a guest host attempted to blame Rove for the l...\n",
              "42919                      Forty years of self-portraits  ...  abby Robinson's collection 'AutoWorks' is not ...\n",
              "46159  We just got a new insight into a crucial crisi...  ...  Cassano: early collateral calls kept changing,...\n",
              "10608  Mexican Border State Cops Allegedly Beat Innoc...  ...  authorities are investigating members of the F...\n",
              "47694  Dropbox CEO Drew Houston just slammed Box CEO ...  ...  box cofounder and CEO Aaron Levie has a histor...\n",
              "\n",
              "[263 rows x 4 columns]"
            ]
          },
          "metadata": {
            "tags": []
          },
          "execution_count": 21
        }
      ]
    },
    {
      "cell_type": "markdown",
      "metadata": {
        "id": "jeWUtwiQ0LxT"
      },
      "source": [
        "# parameter 조정"
      ]
    },
    {
      "cell_type": "code",
      "metadata": {
        "colab": {
          "base_uri": "https://localhost:8080/"
        },
        "id": "P0uC6jZXlJJq",
        "outputId": "323f06fc-db2e-4e7a-b15e-3d0c82c07e7d"
      },
      "source": [
        "# length_penalty, num_beams 변경, repetition_penalty 추가\n",
        "\n",
        "test['summary_T5_tuning'] = 0\n",
        "for i in range(len(test)):\n",
        "  inputs = tokenizer.encode(\"summarize: \" + test.iloc[i]['content'], return_tensors=\"pt\", max_length=512)\n",
        "  outputs = model.generate(inputs, max_length=30, min_length=5, length_penalty=1.5, num_beams=5, repetition_penalty=2.5, early_stopping=True)\n",
        "  test['summary_T5_tuning'].iloc[i] = tokenizer.decode(outputs[0]).replace('<pad>', '').strip()\n"
      ],
      "execution_count": 22,
      "outputs": [
        {
          "output_type": "stream",
          "text": [
            "/usr/local/lib/python3.7/dist-packages/ipykernel_launcher.py:1: SettingWithCopyWarning: \n",
            "A value is trying to be set on a copy of a slice from a DataFrame.\n",
            "Try using .loc[row_indexer,col_indexer] = value instead\n",
            "\n",
            "See the caveats in the documentation: https://pandas.pydata.org/pandas-docs/stable/user_guide/indexing.html#returning-a-view-versus-a-copy\n",
            "  \"\"\"Entry point for launching an IPython kernel.\n",
            "/usr/local/lib/python3.7/dist-packages/pandas/core/indexing.py:670: SettingWithCopyWarning: \n",
            "A value is trying to be set on a copy of a slice from a DataFrame\n",
            "\n",
            "See the caveats in the documentation: https://pandas.pydata.org/pandas-docs/stable/user_guide/indexing.html#returning-a-view-versus-a-copy\n",
            "  iloc._setitem_with_indexer(indexer, value)\n",
            "/usr/local/lib/python3.7/dist-packages/ipykernel_launcher.py:5: SettingWithCopyWarning: \n",
            "A value is trying to be set on a copy of a slice from a DataFrame\n",
            "\n",
            "See the caveats in the documentation: https://pandas.pydata.org/pandas-docs/stable/user_guide/indexing.html#returning-a-view-versus-a-copy\n",
            "  \"\"\"\n"
          ],
          "name": "stderr"
        }
      ]
    },
    {
      "cell_type": "code",
      "metadata": {
        "colab": {
          "base_uri": "https://localhost:8080/",
          "height": 470
        },
        "id": "OkCeajn_lJHL",
        "outputId": "09b525e9-da24-409e-e54f-6a78c582ea0c"
      },
      "source": [
        "test"
      ],
      "execution_count": 23,
      "outputs": [
        {
          "output_type": "execute_result",
          "data": {
            "text/html": [
              "<div>\n",
              "<style scoped>\n",
              "    .dataframe tbody tr th:only-of-type {\n",
              "        vertical-align: middle;\n",
              "    }\n",
              "\n",
              "    .dataframe tbody tr th {\n",
              "        vertical-align: top;\n",
              "    }\n",
              "\n",
              "    .dataframe thead th {\n",
              "        text-align: right;\n",
              "    }\n",
              "</style>\n",
              "<table border=\"1\" class=\"dataframe\">\n",
              "  <thead>\n",
              "    <tr style=\"text-align: right;\">\n",
              "      <th></th>\n",
              "      <th>title</th>\n",
              "      <th>content</th>\n",
              "      <th>summary</th>\n",
              "      <th>summary_T5</th>\n",
              "      <th>summary_T5_tuning</th>\n",
              "    </tr>\n",
              "  </thead>\n",
              "  <tbody>\n",
              "    <tr>\n",
              "      <th>17198</th>\n",
              "      <td>First Look: Woody Allen-Miley Cyrus Series ’Cr...</td>\n",
              "      <td>Amazon released the first trailer for its upco...</td>\n",
              "      <td>Amazon has released the first trailer for its ...</td>\n",
              "      <td>the series begins streaming on amazon prime on...</td>\n",
              "      <td>the series begins streaming on amazon prime on...</td>\n",
              "    </tr>\n",
              "    <tr>\n",
              "      <th>22470</th>\n",
              "      <td>Comedian Sacha Baron Cohen Suggests Trump will...</td>\n",
              "      <td>British satirist and comedian Sacha Baron Cohe...</td>\n",
              "      <td>Sacha Baron Cohen mocked Donald Trump at the U...</td>\n",
              "      <td>satirist and comedian Sacha Baron Cohen mocked...</td>\n",
              "      <td>baron Cohen appeared on the red carpet wearing...</td>\n",
              "    </tr>\n",
              "    <tr>\n",
              "      <th>37279</th>\n",
              "      <td>Southwest flight makes emergency landing</td>\n",
              "      <td>(CNN) A Southwest Airlines flight from New Orl...</td>\n",
              "      <td>A woman who was on the plane with her husband ...</td>\n",
              "      <td>a flight from new orleans to florida was force...</td>\n",
              "      <td>a flight from new orleans to Orlando was force...</td>\n",
              "    </tr>\n",
              "    <tr>\n",
              "      <th>20955</th>\n",
              "      <td>Bolton: Trump’s Taiwan Call ’Absolutely Not a ...</td>\n",
              "      <td>Asked about   Donald Trumps recent phone call ...</td>\n",
              "      <td>Donald Trump's recent phone call with Taiwan c...</td>\n",
              "      <td>former u.n. ambassador says he thought he was ...</td>\n",
              "      <td>former u.n. ambassador John Bolton says the ca...</td>\n",
              "    </tr>\n",
              "    <tr>\n",
              "      <th>35547</th>\n",
              "      <td>Gunmen attack Mali luxury resort, at least 2 dead</td>\n",
              "      <td>(CNN) At least two tourists were killed and 32...</td>\n",
              "      <td>Two of the three attackers were also killed, a...</td>\n",
              "      <td>two tourists killed, 32 others rescued after g...</td>\n",
              "      <td>two of the three attackers were also killed, a...</td>\n",
              "    </tr>\n",
              "    <tr>\n",
              "      <th>...</th>\n",
              "      <td>...</td>\n",
              "      <td>...</td>\n",
              "      <td>...</td>\n",
              "      <td>...</td>\n",
              "      <td>...</td>\n",
              "    </tr>\n",
              "    <tr>\n",
              "      <th>17778</th>\n",
              "      <td>Watch: Rove in Heated Exchange While Defending...</td>\n",
              "      <td>Friday on Fox News Channels “Your World,” Repu...</td>\n",
              "      <td>Karl Rove got into a heated back and forth wit...</td>\n",
              "      <td>a guest host attempted to blame Rove for the l...</td>\n",
              "      <td>a guest host attempted to blame Rove for the l...</td>\n",
              "    </tr>\n",
              "    <tr>\n",
              "      <th>42919</th>\n",
              "      <td>Forty years of self-portraits</td>\n",
              "      <td>(CNN) The excuses for a photographer to take a...</td>\n",
              "      <td>Abby Robinsons collection ”AutoWorks” challeng...</td>\n",
              "      <td>abby Robinson's collection 'AutoWorks' is not ...</td>\n",
              "      <td>abby Robinsons collection 'AutoWorks' is not a...</td>\n",
              "    </tr>\n",
              "    <tr>\n",
              "      <th>46159</th>\n",
              "      <td>We just got a new insight into a crucial crisi...</td>\n",
              "      <td>In short, Goldmans early collateral calls kept...</td>\n",
              "      <td>Cassano thinks that ”no one could get a handle...</td>\n",
              "      <td>Cassano: early collateral calls kept changing,...</td>\n",
              "      <td>Cassano: early collateral calls kept changing,...</td>\n",
              "    </tr>\n",
              "    <tr>\n",
              "      <th>10608</th>\n",
              "      <td>Mexican Border State Cops Allegedly Beat Innoc...</td>\n",
              "      <td>PIEDRAS NEGRAS, Coahuila  —   Mexican authorit...</td>\n",
              "      <td>Mexican authorities are investigating some mem...</td>\n",
              "      <td>authorities are investigating members of the F...</td>\n",
              "      <td>authorities are investigating members of the F...</td>\n",
              "    </tr>\n",
              "    <tr>\n",
              "      <th>47694</th>\n",
              "      <td>Dropbox CEO Drew Houston just slammed Box CEO ...</td>\n",
              "      <td>Box and Dropbox are bitter rivals with a histo...</td>\n",
              "      <td>Box and Dropbox are bitter rivals with a histo...</td>\n",
              "      <td>box cofounder and CEO Aaron Levie has a histor...</td>\n",
              "      <td>box cofounder and CEO Aaron Levie has a histor...</td>\n",
              "    </tr>\n",
              "  </tbody>\n",
              "</table>\n",
              "<p>263 rows × 5 columns</p>\n",
              "</div>"
            ],
            "text/plain": [
              "                                                   title  ...                                  summary_T5_tuning\n",
              "17198  First Look: Woody Allen-Miley Cyrus Series ’Cr...  ...  the series begins streaming on amazon prime on...\n",
              "22470  Comedian Sacha Baron Cohen Suggests Trump will...  ...  baron Cohen appeared on the red carpet wearing...\n",
              "37279           Southwest flight makes emergency landing  ...  a flight from new orleans to Orlando was force...\n",
              "20955  Bolton: Trump’s Taiwan Call ’Absolutely Not a ...  ...  former u.n. ambassador John Bolton says the ca...\n",
              "35547  Gunmen attack Mali luxury resort, at least 2 dead  ...  two of the three attackers were also killed, a...\n",
              "...                                                  ...  ...                                                ...\n",
              "17778  Watch: Rove in Heated Exchange While Defending...  ...  a guest host attempted to blame Rove for the l...\n",
              "42919                      Forty years of self-portraits  ...  abby Robinsons collection 'AutoWorks' is not a...\n",
              "46159  We just got a new insight into a crucial crisi...  ...  Cassano: early collateral calls kept changing,...\n",
              "10608  Mexican Border State Cops Allegedly Beat Innoc...  ...  authorities are investigating members of the F...\n",
              "47694  Dropbox CEO Drew Houston just slammed Box CEO ...  ...  box cofounder and CEO Aaron Levie has a histor...\n",
              "\n",
              "[263 rows x 5 columns]"
            ]
          },
          "metadata": {
            "tags": []
          },
          "execution_count": 23
        }
      ]
    },
    {
      "cell_type": "markdown",
      "metadata": {
        "id": "WnH-ucTgnJwT"
      },
      "source": [
        "# 평가"
      ]
    },
    {
      "cell_type": "code",
      "metadata": {
        "id": "TNUTrtT3wlzP"
      },
      "source": [
        "from rouge_score import rouge_scorer\n",
        "\n",
        "scorer = rouge_scorer.RougeScorer(['rouge1', 'rougeL'], use_stemmer=True)"
      ],
      "execution_count": 50,
      "outputs": []
    },
    {
      "cell_type": "code",
      "metadata": {
        "colab": {
          "base_uri": "https://localhost:8080/"
        },
        "id": "5j4bQUoM6avz",
        "outputId": "2d56520b-dd3d-4a8f-de4c-8a8941fc1ab8"
      },
      "source": [
        "test['fmeasure_summary_rouge1'] = 0\n",
        "test['fmeasure_summary_rougeL'] = 0\n",
        "\n",
        "for i in range(len(test)):\n",
        "  scores = scorer.score(test['title'].iloc[i], test['summary'].iloc[i])\n",
        "  test['fmeasure_summary_rouge1'].iloc[i] = scores['rouge1'][2]\n",
        "  test['fmeasure_summary_rougeL'].iloc[i] = scores['rougeL'][2]"
      ],
      "execution_count": 51,
      "outputs": [
        {
          "output_type": "stream",
          "text": [
            "/usr/local/lib/python3.7/dist-packages/pandas/core/indexing.py:670: SettingWithCopyWarning: \n",
            "A value is trying to be set on a copy of a slice from a DataFrame\n",
            "\n",
            "See the caveats in the documentation: https://pandas.pydata.org/pandas-docs/stable/user_guide/indexing.html#returning-a-view-versus-a-copy\n",
            "  iloc._setitem_with_indexer(indexer, value)\n"
          ],
          "name": "stderr"
        }
      ]
    },
    {
      "cell_type": "code",
      "metadata": {
        "colab": {
          "base_uri": "https://localhost:8080/"
        },
        "id": "eUMshFdbANeR",
        "outputId": "1e7b61b4-64dc-4cf4-fb39-6f695d3ce044"
      },
      "source": [
        "test['fmeasure_summary_T5_rouge1'] = 0\n",
        "test['fmeasure_summary_T5_rougeL'] = 0\n",
        "\n",
        "for i in range(len(test)):\n",
        "  scores = scorer.score(test['title'].iloc[i], test['summary_T5'].iloc[i])\n",
        "  test['fmeasure_summary_T5_rouge1'].iloc[i] = scores['rouge1'][2]\n",
        "  test['fmeasure_summary_T5_rougeL'].iloc[i] = scores['rougeL'][2]"
      ],
      "execution_count": 52,
      "outputs": [
        {
          "output_type": "stream",
          "text": [
            "/usr/local/lib/python3.7/dist-packages/pandas/core/indexing.py:670: SettingWithCopyWarning: \n",
            "A value is trying to be set on a copy of a slice from a DataFrame\n",
            "\n",
            "See the caveats in the documentation: https://pandas.pydata.org/pandas-docs/stable/user_guide/indexing.html#returning-a-view-versus-a-copy\n",
            "  iloc._setitem_with_indexer(indexer, value)\n"
          ],
          "name": "stderr"
        }
      ]
    },
    {
      "cell_type": "code",
      "metadata": {
        "colab": {
          "base_uri": "https://localhost:8080/"
        },
        "id": "6xHpIpNU6ato",
        "outputId": "02bf47dd-561d-455f-e1d9-137a745dacdc"
      },
      "source": [
        "test['fmeasure_summary_T5_tuning_rouge1'] = 0\n",
        "test['fmeasure_summary_T5_tuning_rougeL'] = 0\n",
        "\n",
        "for i in range(len(test)):\n",
        "  scores = scorer.score(test['title'].iloc[i], test['summary_T5_tuning'].iloc[i])\n",
        "  test['fmeasure_summary_T5_tuning_rouge1'].iloc[i] = scores['rouge1'][2]\n",
        "  test['fmeasure_summary_T5_tuning_rougeL'].iloc[i] = scores['rougeL'][2]"
      ],
      "execution_count": 53,
      "outputs": [
        {
          "output_type": "stream",
          "text": [
            "/usr/local/lib/python3.7/dist-packages/pandas/core/indexing.py:670: SettingWithCopyWarning: \n",
            "A value is trying to be set on a copy of a slice from a DataFrame\n",
            "\n",
            "See the caveats in the documentation: https://pandas.pydata.org/pandas-docs/stable/user_guide/indexing.html#returning-a-view-versus-a-copy\n",
            "  iloc._setitem_with_indexer(indexer, value)\n"
          ],
          "name": "stderr"
        }
      ]
    },
    {
      "cell_type": "code",
      "metadata": {
        "colab": {
          "base_uri": "https://localhost:8080/",
          "height": 1000
        },
        "id": "FdEy2SlOxVsU",
        "outputId": "4b88aaf5-d772-4a86-bc70-b274d1c55684"
      },
      "source": [
        "test"
      ],
      "execution_count": 54,
      "outputs": [
        {
          "output_type": "execute_result",
          "data": {
            "text/html": [
              "<div>\n",
              "<style scoped>\n",
              "    .dataframe tbody tr th:only-of-type {\n",
              "        vertical-align: middle;\n",
              "    }\n",
              "\n",
              "    .dataframe tbody tr th {\n",
              "        vertical-align: top;\n",
              "    }\n",
              "\n",
              "    .dataframe thead th {\n",
              "        text-align: right;\n",
              "    }\n",
              "</style>\n",
              "<table border=\"1\" class=\"dataframe\">\n",
              "  <thead>\n",
              "    <tr style=\"text-align: right;\">\n",
              "      <th></th>\n",
              "      <th>title</th>\n",
              "      <th>content</th>\n",
              "      <th>summary</th>\n",
              "      <th>summary_T5</th>\n",
              "      <th>summary_T5_tuning</th>\n",
              "      <th>fmeasure_summary_rouge1</th>\n",
              "      <th>fmeasure_summary_rougeL</th>\n",
              "      <th>fmeasure_summary_T5_rouge1</th>\n",
              "      <th>fmeasure_summary_T5_rougeL</th>\n",
              "      <th>fmeasure_summary_T5_tuning_rouge1</th>\n",
              "      <th>fmeasure_summary_T5_tuning_rougeL</th>\n",
              "    </tr>\n",
              "  </thead>\n",
              "  <tbody>\n",
              "    <tr>\n",
              "      <th>17198</th>\n",
              "      <td>First Look: Woody Allen-Miley Cyrus Series ’Cr...</td>\n",
              "      <td>Amazon released the first trailer for its upco...</td>\n",
              "      <td>Amazon has released the first trailer for its ...</td>\n",
              "      <td>the series begins streaming on amazon prime on...</td>\n",
              "      <td>the series begins streaming on amazon prime on...</td>\n",
              "      <td>0.444444</td>\n",
              "      <td>0.333333</td>\n",
              "      <td>0.121212</td>\n",
              "      <td>0.060606</td>\n",
              "      <td>0.121212</td>\n",
              "      <td>0.060606</td>\n",
              "    </tr>\n",
              "    <tr>\n",
              "      <th>22470</th>\n",
              "      <td>Comedian Sacha Baron Cohen Suggests Trump will...</td>\n",
              "      <td>British satirist and comedian Sacha Baron Cohe...</td>\n",
              "      <td>Sacha Baron Cohen mocked Donald Trump at the U...</td>\n",
              "      <td>satirist and comedian Sacha Baron Cohen mocked...</td>\n",
              "      <td>baron Cohen appeared on the red carpet wearing...</td>\n",
              "      <td>0.235294</td>\n",
              "      <td>0.235294</td>\n",
              "      <td>0.266667</td>\n",
              "      <td>0.266667</td>\n",
              "      <td>0.176471</td>\n",
              "      <td>0.176471</td>\n",
              "    </tr>\n",
              "    <tr>\n",
              "      <th>37279</th>\n",
              "      <td>Southwest flight makes emergency landing</td>\n",
              "      <td>(CNN) A Southwest Airlines flight from New Orl...</td>\n",
              "      <td>A woman who was on the plane with her husband ...</td>\n",
              "      <td>a flight from new orleans to florida was force...</td>\n",
              "      <td>a flight from new orleans to Orlando was force...</td>\n",
              "      <td>0.000000</td>\n",
              "      <td>0.000000</td>\n",
              "      <td>0.307692</td>\n",
              "      <td>0.307692</td>\n",
              "      <td>0.285714</td>\n",
              "      <td>0.285714</td>\n",
              "    </tr>\n",
              "    <tr>\n",
              "      <th>20955</th>\n",
              "      <td>Bolton: Trump’s Taiwan Call ’Absolutely Not a ...</td>\n",
              "      <td>Asked about   Donald Trumps recent phone call ...</td>\n",
              "      <td>Donald Trump's recent phone call with Taiwan c...</td>\n",
              "      <td>former u.n. ambassador says he thought he was ...</td>\n",
              "      <td>former u.n. ambassador John Bolton says the ca...</td>\n",
              "      <td>0.300000</td>\n",
              "      <td>0.200000</td>\n",
              "      <td>0.117647</td>\n",
              "      <td>0.117647</td>\n",
              "      <td>0.242424</td>\n",
              "      <td>0.242424</td>\n",
              "    </tr>\n",
              "    <tr>\n",
              "      <th>35547</th>\n",
              "      <td>Gunmen attack Mali luxury resort, at least 2 dead</td>\n",
              "      <td>(CNN) At least two tourists were killed and 32...</td>\n",
              "      <td>Two of the three attackers were also killed, a...</td>\n",
              "      <td>two tourists killed, 32 others rescued after g...</td>\n",
              "      <td>two of the three attackers were also killed, a...</td>\n",
              "      <td>0.060606</td>\n",
              "      <td>0.060606</td>\n",
              "      <td>0.344828</td>\n",
              "      <td>0.275862</td>\n",
              "      <td>0.066667</td>\n",
              "      <td>0.066667</td>\n",
              "    </tr>\n",
              "    <tr>\n",
              "      <th>...</th>\n",
              "      <td>...</td>\n",
              "      <td>...</td>\n",
              "      <td>...</td>\n",
              "      <td>...</td>\n",
              "      <td>...</td>\n",
              "      <td>...</td>\n",
              "      <td>...</td>\n",
              "      <td>...</td>\n",
              "      <td>...</td>\n",
              "      <td>...</td>\n",
              "      <td>...</td>\n",
              "    </tr>\n",
              "    <tr>\n",
              "      <th>17778</th>\n",
              "      <td>Watch: Rove in Heated Exchange While Defending...</td>\n",
              "      <td>Friday on Fox News Channels “Your World,” Repu...</td>\n",
              "      <td>Karl Rove got into a heated back and forth wit...</td>\n",
              "      <td>a guest host attempted to blame Rove for the l...</td>\n",
              "      <td>a guest host attempted to blame Rove for the l...</td>\n",
              "      <td>0.114286</td>\n",
              "      <td>0.114286</td>\n",
              "      <td>0.058824</td>\n",
              "      <td>0.058824</td>\n",
              "      <td>0.066667</td>\n",
              "      <td>0.066667</td>\n",
              "    </tr>\n",
              "    <tr>\n",
              "      <th>42919</th>\n",
              "      <td>Forty years of self-portraits</td>\n",
              "      <td>(CNN) The excuses for a photographer to take a...</td>\n",
              "      <td>Abby Robinsons collection ”AutoWorks” challeng...</td>\n",
              "      <td>abby Robinson's collection 'AutoWorks' is not ...</td>\n",
              "      <td>abby Robinsons collection 'AutoWorks' is not a...</td>\n",
              "      <td>0.000000</td>\n",
              "      <td>0.000000</td>\n",
              "      <td>0.000000</td>\n",
              "      <td>0.000000</td>\n",
              "      <td>0.000000</td>\n",
              "      <td>0.000000</td>\n",
              "    </tr>\n",
              "    <tr>\n",
              "      <th>46159</th>\n",
              "      <td>We just got a new insight into a crucial crisi...</td>\n",
              "      <td>In short, Goldmans early collateral calls kept...</td>\n",
              "      <td>Cassano thinks that ”no one could get a handle...</td>\n",
              "      <td>Cassano: early collateral calls kept changing,...</td>\n",
              "      <td>Cassano: early collateral calls kept changing,...</td>\n",
              "      <td>0.111111</td>\n",
              "      <td>0.111111</td>\n",
              "      <td>0.055556</td>\n",
              "      <td>0.055556</td>\n",
              "      <td>0.055556</td>\n",
              "      <td>0.055556</td>\n",
              "    </tr>\n",
              "    <tr>\n",
              "      <th>10608</th>\n",
              "      <td>Mexican Border State Cops Allegedly Beat Innoc...</td>\n",
              "      <td>PIEDRAS NEGRAS, Coahuila  —   Mexican authorit...</td>\n",
              "      <td>Mexican authorities are investigating some mem...</td>\n",
              "      <td>authorities are investigating members of the F...</td>\n",
              "      <td>authorities are investigating members of the F...</td>\n",
              "      <td>0.193548</td>\n",
              "      <td>0.193548</td>\n",
              "      <td>0.125000</td>\n",
              "      <td>0.125000</td>\n",
              "      <td>0.125000</td>\n",
              "      <td>0.125000</td>\n",
              "    </tr>\n",
              "    <tr>\n",
              "      <th>47694</th>\n",
              "      <td>Dropbox CEO Drew Houston just slammed Box CEO ...</td>\n",
              "      <td>Box and Dropbox are bitter rivals with a histo...</td>\n",
              "      <td>Box and Dropbox are bitter rivals with a histo...</td>\n",
              "      <td>box cofounder and CEO Aaron Levie has a histor...</td>\n",
              "      <td>box cofounder and CEO Aaron Levie has a histor...</td>\n",
              "      <td>0.312500</td>\n",
              "      <td>0.312500</td>\n",
              "      <td>0.357143</td>\n",
              "      <td>0.285714</td>\n",
              "      <td>0.258065</td>\n",
              "      <td>0.258065</td>\n",
              "    </tr>\n",
              "  </tbody>\n",
              "</table>\n",
              "<p>263 rows × 11 columns</p>\n",
              "</div>"
            ],
            "text/plain": [
              "                                                   title  ... fmeasure_summary_T5_tuning_rougeL\n",
              "17198  First Look: Woody Allen-Miley Cyrus Series ’Cr...  ...                          0.060606\n",
              "22470  Comedian Sacha Baron Cohen Suggests Trump will...  ...                          0.176471\n",
              "37279           Southwest flight makes emergency landing  ...                          0.285714\n",
              "20955  Bolton: Trump’s Taiwan Call ’Absolutely Not a ...  ...                          0.242424\n",
              "35547  Gunmen attack Mali luxury resort, at least 2 dead  ...                          0.066667\n",
              "...                                                  ...  ...                               ...\n",
              "17778  Watch: Rove in Heated Exchange While Defending...  ...                          0.066667\n",
              "42919                      Forty years of self-portraits  ...                          0.000000\n",
              "46159  We just got a new insight into a crucial crisi...  ...                          0.055556\n",
              "10608  Mexican Border State Cops Allegedly Beat Innoc...  ...                          0.125000\n",
              "47694  Dropbox CEO Drew Houston just slammed Box CEO ...  ...                          0.258065\n",
              "\n",
              "[263 rows x 11 columns]"
            ]
          },
          "metadata": {
            "tags": []
          },
          "execution_count": 54
        }
      ]
    },
    {
      "cell_type": "code",
      "metadata": {
        "colab": {
          "base_uri": "https://localhost:8080/"
        },
        "id": "UtJMQkVBxVpu",
        "outputId": "a54a7a14-0a84-4d10-d87d-cd1d65d362bc"
      },
      "source": [
        "test['fmeasure_summary_rouge1'].mean()"
      ],
      "execution_count": 56,
      "outputs": [
        {
          "output_type": "execute_result",
          "data": {
            "text/plain": [
              "0.283467635666216"
            ]
          },
          "metadata": {
            "tags": []
          },
          "execution_count": 56
        }
      ]
    },
    {
      "cell_type": "code",
      "metadata": {
        "colab": {
          "base_uri": "https://localhost:8080/"
        },
        "id": "_4phZFNRCAQk",
        "outputId": "7bb9c11b-e2f1-46b7-fdda-434af2fc1874"
      },
      "source": [
        "test['fmeasure_summary_T5_rouge1'].mean()"
      ],
      "execution_count": 57,
      "outputs": [
        {
          "output_type": "execute_result",
          "data": {
            "text/plain": [
              "0.23487093570609016"
            ]
          },
          "metadata": {
            "tags": []
          },
          "execution_count": 57
        }
      ]
    },
    {
      "cell_type": "code",
      "metadata": {
        "colab": {
          "base_uri": "https://localhost:8080/"
        },
        "id": "IT9AJwJECAOe",
        "outputId": "29146376-ba11-47b9-cd05-45884fb9abcd"
      },
      "source": [
        "test['fmeasure_summary_T5_tuning_rouge1'].mean()"
      ],
      "execution_count": 58,
      "outputs": [
        {
          "output_type": "execute_result",
          "data": {
            "text/plain": [
              "0.22915750335488638"
            ]
          },
          "metadata": {
            "tags": []
          },
          "execution_count": 58
        }
      ]
    },
    {
      "cell_type": "code",
      "metadata": {
        "colab": {
          "base_uri": "https://localhost:8080/"
        },
        "id": "xuC9DcoCCAMV",
        "outputId": "6142099e-31e8-4363-8e26-74d6b6bd1a85"
      },
      "source": [
        "test['fmeasure_summary_rougeL'].mean()"
      ],
      "execution_count": 59,
      "outputs": [
        {
          "output_type": "execute_result",
          "data": {
            "text/plain": [
              "0.24341687627458483"
            ]
          },
          "metadata": {
            "tags": []
          },
          "execution_count": 59
        }
      ]
    },
    {
      "cell_type": "code",
      "metadata": {
        "colab": {
          "base_uri": "https://localhost:8080/"
        },
        "id": "jto4UU7JCAKL",
        "outputId": "7995edc1-6679-47a4-b888-d739a2d556d8"
      },
      "source": [
        "test['fmeasure_summary_T5_rougeL'].mean()"
      ],
      "execution_count": 60,
      "outputs": [
        {
          "output_type": "execute_result",
          "data": {
            "text/plain": [
              "0.204731627093903"
            ]
          },
          "metadata": {
            "tags": []
          },
          "execution_count": 60
        }
      ]
    },
    {
      "cell_type": "code",
      "metadata": {
        "colab": {
          "base_uri": "https://localhost:8080/"
        },
        "id": "OvZpgL4PCAHq",
        "outputId": "6f959f6e-6885-4f50-e2c9-e37d2630bf4c"
      },
      "source": [
        "test['fmeasure_summary_T5_tuning_rougeL'].mean()"
      ],
      "execution_count": 61,
      "outputs": [
        {
          "output_type": "execute_result",
          "data": {
            "text/plain": [
              "0.19637867398432918"
            ]
          },
          "metadata": {
            "tags": []
          },
          "execution_count": 61
        }
      ]
    },
    {
      "cell_type": "code",
      "metadata": {
        "id": "kgfHT1yAvTaC"
      },
      "source": [
        "a = {'fmeasure_summary_rouge1':  [test['fmeasure_summary_rouge1'].mean()],\n",
        "           'fmeasure_summary_T5_rouge1':  [test['fmeasure_summary_T5_rouge1'].mean()],\n",
        "           'fmeasure_summary_T5_tuning_rouge1' : [test['fmeasure_summary_T5_tuning_rouge1'].mean()],\n",
        "           'fmeasure_summary_rougeL': [test['fmeasure_summary_rougeL'].mean()], \n",
        "     'fmeasure_summary_T5_rougeL': [test['fmeasure_summary_T5_rougeL'].mean()], \n",
        "     'fmeasure_summary_T5_tuning_rougeL': [test['fmeasure_summary_T5_tuning_rougeL'].mean()]}"
      ],
      "execution_count": 5,
      "outputs": []
    },
    {
      "cell_type": "code",
      "metadata": {
        "colab": {
          "base_uri": "https://localhost:8080/",
          "height": 80
        },
        "id": "RZfeL7gcvXvK",
        "outputId": "dd3c77e8-cd21-4467-d831-5a88226302bd"
      },
      "source": [
        "pd.DataFrame(a)"
      ],
      "execution_count": 6,
      "outputs": [
        {
          "output_type": "execute_result",
          "data": {
            "text/html": [
              "<div>\n",
              "<style scoped>\n",
              "    .dataframe tbody tr th:only-of-type {\n",
              "        vertical-align: middle;\n",
              "    }\n",
              "\n",
              "    .dataframe tbody tr th {\n",
              "        vertical-align: top;\n",
              "    }\n",
              "\n",
              "    .dataframe thead th {\n",
              "        text-align: right;\n",
              "    }\n",
              "</style>\n",
              "<table border=\"1\" class=\"dataframe\">\n",
              "  <thead>\n",
              "    <tr style=\"text-align: right;\">\n",
              "      <th></th>\n",
              "      <th>fmeasure_summary_rouge1</th>\n",
              "      <th>fmeasure_summary_T5_rouge1</th>\n",
              "      <th>fmeasure_summary_T5_tuning_rouge1</th>\n",
              "      <th>fmeasure_summary_rougeL</th>\n",
              "      <th>fmeasure_summary_T5_rougeL</th>\n",
              "      <th>fmeasure_summary_T5_tuning_rougeL</th>\n",
              "    </tr>\n",
              "  </thead>\n",
              "  <tbody>\n",
              "    <tr>\n",
              "      <th>0</th>\n",
              "      <td>0.283468</td>\n",
              "      <td>0.234871</td>\n",
              "      <td>0.229158</td>\n",
              "      <td>0.243417</td>\n",
              "      <td>0.204732</td>\n",
              "      <td>0.196379</td>\n",
              "    </tr>\n",
              "  </tbody>\n",
              "</table>\n",
              "</div>"
            ],
            "text/plain": [
              "   fmeasure_summary_rouge1  ...  fmeasure_summary_T5_tuning_rougeL\n",
              "0                 0.283468  ...                           0.196379\n",
              "\n",
              "[1 rows x 6 columns]"
            ]
          },
          "metadata": {
            "tags": []
          },
          "execution_count": 6
        }
      ]
    },
    {
      "cell_type": "code",
      "metadata": {
        "id": "shUAp4VswH8i"
      },
      "source": [
        ""
      ],
      "execution_count": null,
      "outputs": []
    }
  ]
}